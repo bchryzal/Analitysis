{
 "cells": [
  {
   "cell_type": "markdown",
   "id": "752bf35f",
   "metadata": {
    "papermill": {
     "duration": 0.013299,
     "end_time": "2023-03-15T19:21:21.313133",
     "exception": false,
     "start_time": "2023-03-15T19:21:21.299834",
     "status": "completed"
    },
    "tags": []
   },
   "source": [
    "# Création d'Etablissement et Sociétés au Bénin (2018-2022)\n",
    "<br>\n",
    "\n",
    "### Introduction\n",
    "\n",
    "Nous disposons des données de la création d'Entreprises au Bénin depuis le **01/01/2018**. Nous avions décidé de les utiliser pour mener une petite étude, dans le but de plus nous familiariser aux données de **Time Series** (Séries Temporaire), mais surtout pour contribuer à l'économie du Bénin.\n",
    "\n",
    "### Objectif\n",
    "\n",
    "Nous nous intéressons dans cette étude aux nombres d'Etablissements et Sociétés qui pourront être créés en Décembre 2022.\n",
    "\n",
    "### Contributions\n",
    "\n",
    "Ce travail d'analyse de données et de modélisation de machine learning peut avoir un impact significatif sur l'économie Béninoise en aidant les entreprises, les gouvernements et les investisseurs à prendre des décisions éclairées et à planifier efficacement pour l'avenir.\n",
    "\n",
    "En voici quelques-uns de ses intérêts et impacts de manière concrete :\n",
    "\n",
    "1. Prédire l'évolution future de la création d'entreprises et de sociétés : un modèle de machine learning peut aider à prévoir l'évolution de la création d'entreprises et de sociétés dans les mois à venir. Cela peut aider les investisseurs, les entrepreneurs et les décideurs à prendre des décisions éclairées sur les investissements, les politiques et les stratégies commerciales.\n",
    "\n",
    "2. Identifier les tendances du marché : En analysant les données sur la création d'entreprises et de sociétés, ce travail peut aider à identifier les tendances du marché et les domaines de croissance potentielle. Cela peut aider les entreprises à anticiper les besoins du marché et à adapter leur offre en conséquence.\n",
    "\n",
    "3. Améliorer la planification et la gestion des ressources : En prévoyant le nombre d'entreprises et de sociétés qui seront créées dans les mois à venir, ce travail peut aider les gouvernements, les entreprises et les investisseurs à planifier et à gérer efficacement leurs ressources. Cela peut inclure la planification des budgets, des ressources humaines, des infrastructures et des politiques.\n",
    "\n",
    "4. Favoriser l'innovation et la croissance économique : En identifiant les tendances du marché et en prévoyant l'évolution de la création d'entreprises et de sociétés, ce travail peut aider à stimuler l'innovation et la croissance économique. Cela peut inclure la création de nouveaux emplois, l'augmentation des investissements et la stimulation de l'activité économique.\n",
    "\n",
    "### Méthodologie\n",
    "\n",
    "Nous allons mener cette étude sivante les étapes suivantes :\n",
    "\n",
    "- Importation des librairies nécessaires\n",
    "- Chargement des données\n",
    "- Compréhension des données\n",
    "- Nétoyage des données\n",
    "- Création de nouvelle caratéristique à base des anciennes\n",
    "- Fractionnement des données d'entraînement et de validation\n",
    "- Entrainement, validation, évaluations et sauvegarde des modèles\n",
    "- Prédictions\n",
    "- Conclusion \n",
    "\n",
    "### Provenance des données\n",
    "\n",
    "Website : https://monentreprise.bj/dashboards/public\n",
    "\n",
    "\n",
    "### Autheur\n",
    "\n",
    "- Chryzal Beaudelaire ZOSSOU\n",
    "- [GitHub](https://github.com/bchryzal)\n",
    "- [LinkedIn](https://www.linkedin.com/in/chryzal/)"
   ]
  },
  {
   "cell_type": "markdown",
   "id": "c3566fa8",
   "metadata": {
    "papermill": {
     "duration": 0.013109,
     "end_time": "2023-03-15T19:21:21.338066",
     "exception": false,
     "start_time": "2023-03-15T19:21:21.324957",
     "status": "completed"
    },
    "tags": []
   },
   "source": [
    "#### Importing Libraries"
   ]
  },
  {
   "cell_type": "code",
   "execution_count": 1,
   "id": "db7d7ffb",
   "metadata": {
    "_cell_guid": "b1076dfc-b9ad-4769-8c92-a6c4dae69d19",
    "_uuid": "8f2839f25d086af736a60e9eeb907d3b93b6e0e5",
    "execution": {
     "iopub.execute_input": "2023-03-15T19:21:21.363318Z",
     "iopub.status.busy": "2023-03-15T19:21:21.362641Z",
     "iopub.status.idle": "2023-03-15T19:21:24.253191Z",
     "shell.execute_reply": "2023-03-15T19:21:24.251890Z"
    },
    "papermill": {
     "duration": 2.906473,
     "end_time": "2023-03-15T19:21:24.256096",
     "exception": false,
     "start_time": "2023-03-15T19:21:21.349623",
     "status": "completed"
    },
    "tags": []
   },
   "outputs": [
    {
     "data": {
      "text/html": [
       "<style type='text/css'>\n",
       ".datatable table.frame { margin-bottom: 0; }\n",
       ".datatable table.frame thead { border-bottom: none; }\n",
       ".datatable table.frame tr.coltypes td {  color: #FFFFFF;  line-height: 6px;  padding: 0 0.5em;}\n",
       ".datatable .bool    { background: #DDDD99; }\n",
       ".datatable .object  { background: #565656; }\n",
       ".datatable .int     { background: #5D9E5D; }\n",
       ".datatable .float   { background: #4040CC; }\n",
       ".datatable .str     { background: #CC4040; }\n",
       ".datatable .time    { background: #40CC40; }\n",
       ".datatable .row_index {  background: var(--jp-border-color3);  border-right: 1px solid var(--jp-border-color0);  color: var(--jp-ui-font-color3);  font-size: 9px;}\n",
       ".datatable .frame tbody td { text-align: left; }\n",
       ".datatable .frame tr.coltypes .row_index {  background: var(--jp-border-color0);}\n",
       ".datatable th:nth-child(2) { padding-left: 12px; }\n",
       ".datatable .hellipsis {  color: var(--jp-cell-editor-border-color);}\n",
       ".datatable .vellipsis {  background: var(--jp-layout-color0);  color: var(--jp-cell-editor-border-color);}\n",
       ".datatable .na {  color: var(--jp-cell-editor-border-color);  font-size: 80%;}\n",
       ".datatable .sp {  opacity: 0.25;}\n",
       ".datatable .footer { font-size: 9px; }\n",
       ".datatable .frame_dimensions {  background: var(--jp-border-color3);  border-top: 1px solid var(--jp-border-color0);  color: var(--jp-ui-font-color3);  display: inline-block;  opacity: 0.6;  padding: 1px 10px 1px 5px;}\n",
       "</style>\n"
      ],
      "text/plain": [
       "<IPython.core.display.HTML object>"
      ]
     },
     "metadata": {},
     "output_type": "display_data"
    }
   ],
   "source": [
    "import numpy as np # linear algebra\n",
    "import pandas as pd # data processing, CSV file I/O (e.g. pd.read_csv)\n",
    "import os\n",
    "\n",
    "import matplotlib.pyplot as plt\n",
    "import seaborn as sns\n",
    "\n",
    "from xgboost import XGBRegressor\n",
    "from lightgbm import LGBMRegressor\n",
    "from sklearn.linear_model import LinearRegression\n",
    "from catboost import CatBoostRegressor\n",
    "from sklearn.ensemble import VotingRegressor, RandomForestRegressor\n",
    "\n",
    "from sklearn.model_selection import TimeSeriesSplit\n",
    "from sklearn.metrics import mean_squared_error\n",
    "\n",
    "color_pal = sns.color_palette()\n",
    "plt.style.use('fivethirtyeight')"
   ]
  },
  {
   "cell_type": "markdown",
   "id": "1669842c",
   "metadata": {
    "papermill": {
     "duration": 0.011546,
     "end_time": "2023-03-15T19:21:24.279565",
     "exception": false,
     "start_time": "2023-03-15T19:21:24.268019",
     "status": "completed"
    },
    "tags": []
   },
   "source": [
    "#### Loading Data"
   ]
  },
  {
   "cell_type": "code",
   "execution_count": 2,
   "id": "28b2da46",
   "metadata": {
    "execution": {
     "iopub.execute_input": "2023-03-15T19:21:24.305395Z",
     "iopub.status.busy": "2023-03-15T19:21:24.304949Z",
     "iopub.status.idle": "2023-03-15T19:21:24.795554Z",
     "shell.execute_reply": "2023-03-15T19:21:24.794414Z"
    },
    "papermill": {
     "duration": 0.506533,
     "end_time": "2023-03-15T19:21:24.798070",
     "exception": false,
     "start_time": "2023-03-15T19:21:24.291537",
     "status": "completed"
    },
    "tags": []
   },
   "outputs": [
    {
     "data": {
      "text/html": [
       "<div>\n",
       "<style scoped>\n",
       "    .dataframe tbody tr th:only-of-type {\n",
       "        vertical-align: middle;\n",
       "    }\n",
       "\n",
       "    .dataframe tbody tr th {\n",
       "        vertical-align: top;\n",
       "    }\n",
       "\n",
       "    .dataframe thead th {\n",
       "        text-align: right;\n",
       "    }\n",
       "</style>\n",
       "<table border=\"1\" class=\"dataframe\">\n",
       "  <thead>\n",
       "    <tr style=\"text-align: right;\">\n",
       "      <th></th>\n",
       "      <th>category</th>\n",
       "      <th>Créer une société</th>\n",
       "      <th>Créer un établissement</th>\n",
       "    </tr>\n",
       "  </thead>\n",
       "  <tbody>\n",
       "    <tr>\n",
       "      <th>0</th>\n",
       "      <td>2018-01-02</td>\n",
       "      <td>5.0</td>\n",
       "      <td>22.0</td>\n",
       "    </tr>\n",
       "    <tr>\n",
       "      <th>1</th>\n",
       "      <td>2018-01-03</td>\n",
       "      <td>15.0</td>\n",
       "      <td>53.0</td>\n",
       "    </tr>\n",
       "    <tr>\n",
       "      <th>2</th>\n",
       "      <td>2018-01-04</td>\n",
       "      <td>19.0</td>\n",
       "      <td>55.0</td>\n",
       "    </tr>\n",
       "    <tr>\n",
       "      <th>3</th>\n",
       "      <td>2018-01-05</td>\n",
       "      <td>16.0</td>\n",
       "      <td>82.0</td>\n",
       "    </tr>\n",
       "    <tr>\n",
       "      <th>4</th>\n",
       "      <td>2018-01-08</td>\n",
       "      <td>16.0</td>\n",
       "      <td>43.0</td>\n",
       "    </tr>\n",
       "  </tbody>\n",
       "</table>\n",
       "</div>"
      ],
      "text/plain": [
       "     category  Créer une société  Créer un établissement\n",
       "0  2018-01-02                5.0                    22.0\n",
       "1  2018-01-03               15.0                    53.0\n",
       "2  2018-01-04               19.0                    55.0\n",
       "3  2018-01-05               16.0                    82.0\n",
       "4  2018-01-08               16.0                    43.0"
      ]
     },
     "execution_count": 2,
     "metadata": {},
     "output_type": "execute_result"
    }
   ],
   "source": [
    "data = pd.read_excel('/kaggle/input/crations-dentreprises-par-jour-au-bnin/entreprise_and_societe.xlsx')\n",
    "data.head()"
   ]
  },
  {
   "cell_type": "markdown",
   "id": "5ebc140e",
   "metadata": {
    "papermill": {
     "duration": 0.011799,
     "end_time": "2023-03-15T19:21:24.822042",
     "exception": false,
     "start_time": "2023-03-15T19:21:24.810243",
     "status": "completed"
    },
    "tags": []
   },
   "source": [
    "# Undestanding Data"
   ]
  },
  {
   "cell_type": "markdown",
   "id": "bd71060d",
   "metadata": {
    "papermill": {
     "duration": 0.011826,
     "end_time": "2023-03-15T19:21:24.846090",
     "exception": false,
     "start_time": "2023-03-15T19:21:24.834264",
     "status": "completed"
    },
    "tags": []
   },
   "source": [
    "#### Data dimensions"
   ]
  },
  {
   "cell_type": "code",
   "execution_count": 3,
   "id": "8a5c52dd",
   "metadata": {
    "execution": {
     "iopub.execute_input": "2023-03-15T19:21:24.873261Z",
     "iopub.status.busy": "2023-03-15T19:21:24.872323Z",
     "iopub.status.idle": "2023-03-15T19:21:24.879650Z",
     "shell.execute_reply": "2023-03-15T19:21:24.878652Z"
    },
    "papermill": {
     "duration": 0.02357,
     "end_time": "2023-03-15T19:21:24.881814",
     "exception": false,
     "start_time": "2023-03-15T19:21:24.858244",
     "status": "completed"
    },
    "tags": []
   },
   "outputs": [
    {
     "data": {
      "text/plain": [
       "(1254, 3)"
      ]
     },
     "execution_count": 3,
     "metadata": {},
     "output_type": "execute_result"
    }
   ],
   "source": [
    "data.shape"
   ]
  },
  {
   "cell_type": "code",
   "execution_count": 4,
   "id": "32e29718",
   "metadata": {
    "execution": {
     "iopub.execute_input": "2023-03-15T19:21:24.909380Z",
     "iopub.status.busy": "2023-03-15T19:21:24.908692Z",
     "iopub.status.idle": "2023-03-15T19:21:24.933739Z",
     "shell.execute_reply": "2023-03-15T19:21:24.932191Z"
    },
    "papermill": {
     "duration": 0.042352,
     "end_time": "2023-03-15T19:21:24.936715",
     "exception": false,
     "start_time": "2023-03-15T19:21:24.894363",
     "status": "completed"
    },
    "tags": []
   },
   "outputs": [
    {
     "name": "stdout",
     "output_type": "stream",
     "text": [
      "<class 'pandas.core.frame.DataFrame'>\n",
      "RangeIndex: 1254 entries, 0 to 1253\n",
      "Data columns (total 3 columns):\n",
      " #   Column                  Non-Null Count  Dtype  \n",
      "---  ------                  --------------  -----  \n",
      " 0   category                1254 non-null   object \n",
      " 1   Créer une société       1236 non-null   float64\n",
      " 2   Créer un établissement  1251 non-null   float64\n",
      "dtypes: float64(2), object(1)\n",
      "memory usage: 29.5+ KB\n"
     ]
    }
   ],
   "source": [
    "data.info()"
   ]
  },
  {
   "cell_type": "markdown",
   "id": "320b1a70",
   "metadata": {
    "papermill": {
     "duration": 0.012049,
     "end_time": "2023-03-15T19:21:24.961312",
     "exception": false,
     "start_time": "2023-03-15T19:21:24.949263",
     "status": "completed"
    },
    "tags": []
   },
   "source": [
    "Valeurs manquantes"
   ]
  },
  {
   "cell_type": "code",
   "execution_count": 5,
   "id": "ed469544",
   "metadata": {
    "execution": {
     "iopub.execute_input": "2023-03-15T19:21:24.988115Z",
     "iopub.status.busy": "2023-03-15T19:21:24.987697Z",
     "iopub.status.idle": "2023-03-15T19:21:24.996800Z",
     "shell.execute_reply": "2023-03-15T19:21:24.995701Z"
    },
    "papermill": {
     "duration": 0.025327,
     "end_time": "2023-03-15T19:21:24.999089",
     "exception": false,
     "start_time": "2023-03-15T19:21:24.973762",
     "status": "completed"
    },
    "tags": []
   },
   "outputs": [
    {
     "data": {
      "text/plain": [
       "category                   0\n",
       "Créer une société         18\n",
       "Créer un établissement     3\n",
       "dtype: int64"
      ]
     },
     "execution_count": 5,
     "metadata": {},
     "output_type": "execute_result"
    }
   ],
   "source": [
    "data.isna().sum()"
   ]
  },
  {
   "cell_type": "code",
   "execution_count": null,
   "id": "25693038",
   "metadata": {
    "papermill": {
     "duration": 0.012055,
     "end_time": "2023-03-15T19:21:25.023758",
     "exception": false,
     "start_time": "2023-03-15T19:21:25.011703",
     "status": "completed"
    },
    "tags": []
   },
   "outputs": [],
   "source": []
  },
  {
   "cell_type": "markdown",
   "id": "6854a75f",
   "metadata": {
    "papermill": {
     "duration": 0.011851,
     "end_time": "2023-03-15T19:21:25.048549",
     "exception": false,
     "start_time": "2023-03-15T19:21:25.036698",
     "status": "completed"
    },
    "tags": []
   },
   "source": [
    "# Pre-processing Data"
   ]
  },
  {
   "cell_type": "code",
   "execution_count": 6,
   "id": "45de6b61",
   "metadata": {
    "execution": {
     "iopub.execute_input": "2023-03-15T19:21:25.074891Z",
     "iopub.status.busy": "2023-03-15T19:21:25.074090Z",
     "iopub.status.idle": "2023-03-15T19:21:25.087012Z",
     "shell.execute_reply": "2023-03-15T19:21:25.085975Z"
    },
    "papermill": {
     "duration": 0.028603,
     "end_time": "2023-03-15T19:21:25.089302",
     "exception": false,
     "start_time": "2023-03-15T19:21:25.060699",
     "status": "completed"
    },
    "tags": []
   },
   "outputs": [
    {
     "data": {
      "text/html": [
       "<div>\n",
       "<style scoped>\n",
       "    .dataframe tbody tr th:only-of-type {\n",
       "        vertical-align: middle;\n",
       "    }\n",
       "\n",
       "    .dataframe tbody tr th {\n",
       "        vertical-align: top;\n",
       "    }\n",
       "\n",
       "    .dataframe thead th {\n",
       "        text-align: right;\n",
       "    }\n",
       "</style>\n",
       "<table border=\"1\" class=\"dataframe\">\n",
       "  <thead>\n",
       "    <tr style=\"text-align: right;\">\n",
       "      <th></th>\n",
       "      <th>category</th>\n",
       "      <th>Créer une société</th>\n",
       "      <th>Créer un établissement</th>\n",
       "    </tr>\n",
       "  </thead>\n",
       "  <tbody>\n",
       "    <tr>\n",
       "      <th>0</th>\n",
       "      <td>2018-01-02</td>\n",
       "      <td>5.0</td>\n",
       "      <td>22.0</td>\n",
       "    </tr>\n",
       "    <tr>\n",
       "      <th>1</th>\n",
       "      <td>2018-01-03</td>\n",
       "      <td>15.0</td>\n",
       "      <td>53.0</td>\n",
       "    </tr>\n",
       "    <tr>\n",
       "      <th>2</th>\n",
       "      <td>2018-01-04</td>\n",
       "      <td>19.0</td>\n",
       "      <td>55.0</td>\n",
       "    </tr>\n",
       "    <tr>\n",
       "      <th>3</th>\n",
       "      <td>2018-01-05</td>\n",
       "      <td>16.0</td>\n",
       "      <td>82.0</td>\n",
       "    </tr>\n",
       "    <tr>\n",
       "      <th>4</th>\n",
       "      <td>2018-01-08</td>\n",
       "      <td>16.0</td>\n",
       "      <td>43.0</td>\n",
       "    </tr>\n",
       "  </tbody>\n",
       "</table>\n",
       "</div>"
      ],
      "text/plain": [
       "     category  Créer une société  Créer un établissement\n",
       "0  2018-01-02                5.0                    22.0\n",
       "1  2018-01-03               15.0                    53.0\n",
       "2  2018-01-04               19.0                    55.0\n",
       "3  2018-01-05               16.0                    82.0\n",
       "4  2018-01-08               16.0                    43.0"
      ]
     },
     "execution_count": 6,
     "metadata": {},
     "output_type": "execute_result"
    }
   ],
   "source": [
    "df = data.copy()\n",
    "df.head()"
   ]
  },
  {
   "cell_type": "markdown",
   "id": "6696ca33",
   "metadata": {
    "papermill": {
     "duration": 0.012146,
     "end_time": "2023-03-15T19:21:25.114066",
     "exception": false,
     "start_time": "2023-03-15T19:21:25.101920",
     "status": "completed"
    },
    "tags": []
   },
   "source": [
    "Rename all columns"
   ]
  },
  {
   "cell_type": "code",
   "execution_count": 7,
   "id": "aeb0e3ea",
   "metadata": {
    "execution": {
     "iopub.execute_input": "2023-03-15T19:21:25.140761Z",
     "iopub.status.busy": "2023-03-15T19:21:25.140325Z",
     "iopub.status.idle": "2023-03-15T19:21:25.149024Z",
     "shell.execute_reply": "2023-03-15T19:21:25.148046Z"
    },
    "papermill": {
     "duration": 0.024837,
     "end_time": "2023-03-15T19:21:25.151409",
     "exception": false,
     "start_time": "2023-03-15T19:21:25.126572",
     "status": "completed"
    },
    "tags": []
   },
   "outputs": [
    {
     "data": {
      "text/plain": [
       "Index(['Datetime', 'company', 'establishment'], dtype='object')"
      ]
     },
     "execution_count": 7,
     "metadata": {},
     "output_type": "execute_result"
    }
   ],
   "source": [
    "df.columns = ['Datetime','company','establishment']\n",
    "df.columns"
   ]
  },
  {
   "cell_type": "markdown",
   "id": "4e746dcc",
   "metadata": {
    "papermill": {
     "duration": 0.012264,
     "end_time": "2023-03-15T19:21:25.176391",
     "exception": false,
     "start_time": "2023-03-15T19:21:25.164127",
     "status": "completed"
    },
    "tags": []
   },
   "source": [
    "Set `Datetime` to index"
   ]
  },
  {
   "cell_type": "code",
   "execution_count": 8,
   "id": "bd6dbed3",
   "metadata": {
    "execution": {
     "iopub.execute_input": "2023-03-15T19:21:25.204189Z",
     "iopub.status.busy": "2023-03-15T19:21:25.202897Z",
     "iopub.status.idle": "2023-03-15T19:21:25.220463Z",
     "shell.execute_reply": "2023-03-15T19:21:25.219219Z"
    },
    "papermill": {
     "duration": 0.033891,
     "end_time": "2023-03-15T19:21:25.222935",
     "exception": false,
     "start_time": "2023-03-15T19:21:25.189044",
     "status": "completed"
    },
    "tags": []
   },
   "outputs": [
    {
     "data": {
      "text/html": [
       "<div>\n",
       "<style scoped>\n",
       "    .dataframe tbody tr th:only-of-type {\n",
       "        vertical-align: middle;\n",
       "    }\n",
       "\n",
       "    .dataframe tbody tr th {\n",
       "        vertical-align: top;\n",
       "    }\n",
       "\n",
       "    .dataframe thead th {\n",
       "        text-align: right;\n",
       "    }\n",
       "</style>\n",
       "<table border=\"1\" class=\"dataframe\">\n",
       "  <thead>\n",
       "    <tr style=\"text-align: right;\">\n",
       "      <th></th>\n",
       "      <th>company</th>\n",
       "      <th>establishment</th>\n",
       "    </tr>\n",
       "    <tr>\n",
       "      <th>Datetime</th>\n",
       "      <th></th>\n",
       "      <th></th>\n",
       "    </tr>\n",
       "  </thead>\n",
       "  <tbody>\n",
       "    <tr>\n",
       "      <th>2018-01-02</th>\n",
       "      <td>5.0</td>\n",
       "      <td>22.0</td>\n",
       "    </tr>\n",
       "    <tr>\n",
       "      <th>2018-01-03</th>\n",
       "      <td>15.0</td>\n",
       "      <td>53.0</td>\n",
       "    </tr>\n",
       "    <tr>\n",
       "      <th>2018-01-04</th>\n",
       "      <td>19.0</td>\n",
       "      <td>55.0</td>\n",
       "    </tr>\n",
       "    <tr>\n",
       "      <th>2018-01-05</th>\n",
       "      <td>16.0</td>\n",
       "      <td>82.0</td>\n",
       "    </tr>\n",
       "    <tr>\n",
       "      <th>2018-01-08</th>\n",
       "      <td>16.0</td>\n",
       "      <td>43.0</td>\n",
       "    </tr>\n",
       "  </tbody>\n",
       "</table>\n",
       "</div>"
      ],
      "text/plain": [
       "            company  establishment\n",
       "Datetime                          \n",
       "2018-01-02      5.0           22.0\n",
       "2018-01-03     15.0           53.0\n",
       "2018-01-04     19.0           55.0\n",
       "2018-01-05     16.0           82.0\n",
       "2018-01-08     16.0           43.0"
      ]
     },
     "execution_count": 8,
     "metadata": {},
     "output_type": "execute_result"
    }
   ],
   "source": [
    "df = df.set_index('Datetime')\n",
    "df.index = pd.to_datetime(df.index)\n",
    "df.head()"
   ]
  },
  {
   "cell_type": "markdown",
   "id": "eba9cc7b",
   "metadata": {
    "papermill": {
     "duration": 0.012434,
     "end_time": "2023-03-15T19:21:25.248232",
     "exception": false,
     "start_time": "2023-03-15T19:21:25.235798",
     "status": "completed"
    },
    "tags": []
   },
   "source": [
    "Ici nous allons remplacer les `21` valeurs manquantes par la valeur `0`"
   ]
  },
  {
   "cell_type": "code",
   "execution_count": 9,
   "id": "8bcfe2b0",
   "metadata": {
    "execution": {
     "iopub.execute_input": "2023-03-15T19:21:25.275891Z",
     "iopub.status.busy": "2023-03-15T19:21:25.275457Z",
     "iopub.status.idle": "2023-03-15T19:21:25.282530Z",
     "shell.execute_reply": "2023-03-15T19:21:25.281582Z"
    },
    "papermill": {
     "duration": 0.023952,
     "end_time": "2023-03-15T19:21:25.285127",
     "exception": false,
     "start_time": "2023-03-15T19:21:25.261175",
     "status": "completed"
    },
    "tags": []
   },
   "outputs": [
    {
     "name": "stdout",
     "output_type": "stream",
     "text": [
      "Valeurs manquantes total : 21\n"
     ]
    }
   ],
   "source": [
    "print(\"Valeurs manquantes total :\", df.isna().sum().sum())\n",
    "df = df.fillna(0)"
   ]
  },
  {
   "cell_type": "markdown",
   "id": "3ea109e9",
   "metadata": {
    "papermill": {
     "duration": 0.013013,
     "end_time": "2023-03-15T19:21:25.311486",
     "exception": false,
     "start_time": "2023-03-15T19:21:25.298473",
     "status": "completed"
    },
    "tags": []
   },
   "source": [
    "# Exploratory Data Analysis"
   ]
  },
  {
   "cell_type": "code",
   "execution_count": 10,
   "id": "7d171464",
   "metadata": {
    "_kg_hide-input": true,
    "execution": {
     "iopub.execute_input": "2023-03-15T19:21:25.339398Z",
     "iopub.status.busy": "2023-03-15T19:21:25.338969Z",
     "iopub.status.idle": "2023-03-15T19:21:25.788951Z",
     "shell.execute_reply": "2023-03-15T19:21:25.787675Z"
    },
    "papermill": {
     "duration": 0.467089,
     "end_time": "2023-03-15T19:21:25.791621",
     "exception": false,
     "start_time": "2023-03-15T19:21:25.324532",
     "status": "completed"
    },
    "tags": []
   },
   "outputs": [
    {
     "data": {
      "image/png": "[encoded data removed]",
      "text/plain": [
       "<Figure size 1080x360 with 1 Axes>"
      ]
     },
     "metadata": {},
     "output_type": "display_data"
    }
   ],
   "source": [
    "df['company'].plot(style='.',\n",
    "        figsize=(15, 5),\n",
    "        color=color_pal[1],\n",
    "        title=\"Création de Sociétés au Bénin\")\n",
    "plt.show()"
   ]
  },
  {
   "cell_type": "code",
   "execution_count": 11,
   "id": "ea18c9a3",
   "metadata": {
    "_kg_hide-input": true,
    "execution": {
     "iopub.execute_input": "2023-03-15T19:21:25.821550Z",
     "iopub.status.busy": "2023-03-15T19:21:25.820693Z",
     "iopub.status.idle": "2023-03-15T19:21:26.067426Z",
     "shell.execute_reply": "2023-03-15T19:21:26.066263Z"
    },
    "papermill": {
     "duration": 0.264444,
     "end_time": "2023-03-15T19:21:26.070161",
     "exception": false,
     "start_time": "2023-03-15T19:21:25.805717",
     "status": "completed"
    },
    "tags": []
   },
   "outputs": [
    {
     "data": {
      "image/png": "[encoded data removed]",
      "text/plain": [
       "<Figure size 1080x360 with 1 Axes>"
      ]
     },
     "metadata": {},
     "output_type": "display_data"
    }
   ],
   "source": [
    "df['establishment'].plot(style='.',\n",
    "        figsize=(15, 5),\n",
    "        color=color_pal[0],\n",
    "        title=\"Création d'Etablissement au Bénin\")\n",
    "plt.show()"
   ]
  },
  {
   "cell_type": "markdown",
   "id": "40050be9",
   "metadata": {
    "papermill": {
     "duration": 0.014442,
     "end_time": "2023-03-15T19:21:26.099878",
     "exception": false,
     "start_time": "2023-03-15T19:21:26.085436",
     "status": "completed"
    },
    "tags": []
   },
   "source": [
    "#### Outlier Analysis "
   ]
  },
  {
   "cell_type": "code",
   "execution_count": 12,
   "id": "0c0c709d",
   "metadata": {
    "_kg_hide-input": true,
    "execution": {
     "iopub.execute_input": "2023-03-15T19:21:26.130933Z",
     "iopub.status.busy": "2023-03-15T19:21:26.130539Z",
     "iopub.status.idle": "2023-03-15T19:21:26.512143Z",
     "shell.execute_reply": "2023-03-15T19:21:26.511268Z"
    },
    "papermill": {
     "duration": 0.39983,
     "end_time": "2023-03-15T19:21:26.514411",
     "exception": false,
     "start_time": "2023-03-15T19:21:26.114581",
     "status": "completed"
    },
    "tags": []
   },
   "outputs": [
    {
     "data": {
      "text/plain": [
       "<AxesSubplot:ylabel='Frequency'>"
      ]
     },
     "execution_count": 12,
     "metadata": {},
     "output_type": "execute_result"
    },
    {
     "data": {
      "image/png": "[encoded data removed]",
      "text/plain": [
       "<Figure size 432x288 with 1 Axes>"
      ]
     },
     "metadata": {},
     "output_type": "display_data"
    }
   ],
   "source": [
    "df['company'].plot(kind='hist', bins=100)"
   ]
  },
  {
   "cell_type": "code",
   "execution_count": 13,
   "id": "ce6eb9b4",
   "metadata": {
    "_kg_hide-input": true,
    "execution": {
     "iopub.execute_input": "2023-03-15T19:21:26.547214Z",
     "iopub.status.busy": "2023-03-15T19:21:26.546175Z",
     "iopub.status.idle": "2023-03-15T19:21:26.928078Z",
     "shell.execute_reply": "2023-03-15T19:21:26.926602Z"
    },
    "papermill": {
     "duration": 0.400912,
     "end_time": "2023-03-15T19:21:26.930744",
     "exception": false,
     "start_time": "2023-03-15T19:21:26.529832",
     "status": "completed"
    },
    "tags": []
   },
   "outputs": [
    {
     "data": {
      "text/plain": [
       "<AxesSubplot:ylabel='Frequency'>"
      ]
     },
     "execution_count": 13,
     "metadata": {},
     "output_type": "execute_result"
    },
    {
     "data": {
      "image/png": "[encoded data removed]",
      "text/plain": [
       "<Figure size 432x288 with 1 Axes>"
      ]
     },
     "metadata": {},
     "output_type": "display_data"
    }
   ],
   "source": [
    "df['establishment'].plot(kind='hist', bins=100)"
   ]
  },
  {
   "cell_type": "code",
   "execution_count": null,
   "id": "bd9c0edb",
   "metadata": {
    "papermill": {
     "duration": 0.015468,
     "end_time": "2023-03-15T19:21:26.962097",
     "exception": false,
     "start_time": "2023-03-15T19:21:26.946629",
     "status": "completed"
    },
    "tags": []
   },
   "outputs": [],
   "source": []
  },
  {
   "cell_type": "markdown",
   "id": "19d4beca",
   "metadata": {
    "papermill": {
     "duration": 0.015171,
     "end_time": "2023-03-15T19:21:26.994991",
     "exception": false,
     "start_time": "2023-03-15T19:21:26.979820",
     "status": "completed"
    },
    "tags": []
   },
   "source": [
    "#### Séparation des données de sociétés et d'établissements  "
   ]
  },
  {
   "cell_type": "code",
   "execution_count": 14,
   "id": "49388d86",
   "metadata": {
    "execution": {
     "iopub.execute_input": "2023-03-15T19:21:27.028283Z",
     "iopub.status.busy": "2023-03-15T19:21:27.027160Z",
     "iopub.status.idle": "2023-03-15T19:21:27.037124Z",
     "shell.execute_reply": "2023-03-15T19:21:27.035815Z"
    },
    "papermill": {
     "duration": 0.029192,
     "end_time": "2023-03-15T19:21:27.039591",
     "exception": false,
     "start_time": "2023-03-15T19:21:27.010399",
     "status": "completed"
    },
    "tags": []
   },
   "outputs": [
    {
     "data": {
      "text/plain": [
       "((1254, 1), (1254, 1))"
      ]
     },
     "execution_count": 14,
     "metadata": {},
     "output_type": "execute_result"
    }
   ],
   "source": [
    "df_company = pd.DataFrame(df['company'].copy()) \n",
    "df_establishment = pd.DataFrame(df['establishment'].copy())\n",
    "\n",
    "df_company.shape, df_establishment.shape"
   ]
  },
  {
   "cell_type": "markdown",
   "id": "badd00ff",
   "metadata": {
    "papermill": {
     "duration": 0.015481,
     "end_time": "2023-03-15T19:21:27.070469",
     "exception": false,
     "start_time": "2023-03-15T19:21:27.054988",
     "status": "completed"
    },
    "tags": []
   },
   "source": [
    "#### Abscence des données des week-end\n",
    "\n",
    "Nous pouvons observer dans nos données qu'il n'y a aucune donnée sur les week-end"
   ]
  },
  {
   "cell_type": "code",
   "execution_count": 15,
   "id": "53fd256c",
   "metadata": {
    "execution": {
     "iopub.execute_input": "2023-03-15T19:21:27.103943Z",
     "iopub.status.busy": "2023-03-15T19:21:27.103096Z",
     "iopub.status.idle": "2023-03-15T19:21:27.118010Z",
     "shell.execute_reply": "2023-03-15T19:21:27.116864Z"
    },
    "papermill": {
     "duration": 0.034549,
     "end_time": "2023-03-15T19:21:27.120573",
     "exception": false,
     "start_time": "2023-03-15T19:21:27.086024",
     "status": "completed"
    },
    "tags": []
   },
   "outputs": [
    {
     "data": {
      "text/html": [
       "<div>\n",
       "<style scoped>\n",
       "    .dataframe tbody tr th:only-of-type {\n",
       "        vertical-align: middle;\n",
       "    }\n",
       "\n",
       "    .dataframe tbody tr th {\n",
       "        vertical-align: top;\n",
       "    }\n",
       "\n",
       "    .dataframe thead th {\n",
       "        text-align: right;\n",
       "    }\n",
       "</style>\n",
       "<table border=\"1\" class=\"dataframe\">\n",
       "  <thead>\n",
       "    <tr style=\"text-align: right;\">\n",
       "      <th></th>\n",
       "      <th>company</th>\n",
       "    </tr>\n",
       "    <tr>\n",
       "      <th>Datetime</th>\n",
       "      <th></th>\n",
       "    </tr>\n",
       "  </thead>\n",
       "  <tbody>\n",
       "  </tbody>\n",
       "</table>\n",
       "</div>"
      ],
      "text/plain": [
       "Empty DataFrame\n",
       "Columns: [company]\n",
       "Index: []"
      ]
     },
     "execution_count": 15,
     "metadata": {},
     "output_type": "execute_result"
    }
   ],
   "source": [
    "df_company.query(\"index >= '2022-11-12' and index < '2022-11-14' \")"
   ]
  },
  {
   "cell_type": "markdown",
   "id": "660663d0",
   "metadata": {
    "papermill": {
     "duration": 0.015475,
     "end_time": "2023-03-15T19:21:27.151767",
     "exception": false,
     "start_time": "2023-03-15T19:21:27.136292",
     "status": "completed"
    },
    "tags": []
   },
   "source": [
    "# Utils"
   ]
  },
  {
   "cell_type": "markdown",
   "id": "b790cfe4",
   "metadata": {
    "papermill": {
     "duration": 0.01596,
     "end_time": "2023-03-15T19:21:27.184840",
     "exception": false,
     "start_time": "2023-03-15T19:21:27.168880",
     "status": "completed"
    },
    "tags": []
   },
   "source": [
    "### Feature Engineering : Forecasting Horizon Explained\n",
    "\n",
    "The forecast horizon is the length of time into the future for which forecasts are to be prepared. These generally vary from short-term forecasting horizons (less than three months) to long-term horizons (more than two years).\n",
    "\n",
    "**Création de nouvelle caractéristiques à base de celle de DateTime**"
   ]
  },
  {
   "cell_type": "code",
   "execution_count": 16,
   "id": "d0c01a93",
   "metadata": {
    "execution": {
     "iopub.execute_input": "2023-03-15T19:21:27.224987Z",
     "iopub.status.busy": "2023-03-15T19:21:27.224139Z",
     "iopub.status.idle": "2023-03-15T19:21:27.232964Z",
     "shell.execute_reply": "2023-03-15T19:21:27.232059Z"
    },
    "papermill": {
     "duration": 0.03177,
     "end_time": "2023-03-15T19:21:27.235575",
     "exception": false,
     "start_time": "2023-03-15T19:21:27.203805",
     "status": "completed"
    },
    "tags": []
   },
   "outputs": [],
   "source": [
    "def create_features(df0):\n",
    "    \"\"\"\n",
    "    Create time series features based on time series index.\n",
    "    \"\"\"\n",
    "    df0 = df0.copy()\n",
    "    \n",
    "    df0['dayofweek']  = df0.index.dayofweek\n",
    "    df0['quarter']    = df0.index.quarter\n",
    "    df0['month']      = df0.index.month\n",
    "    df0['year']       = df0.index.year\n",
    "    df0['dayofyear']  = df0.index.dayofyear\n",
    "    df0['dayofmonth'] = df0.index.day\n",
    "    df0['weekofyear'] = np.int32(df0.index.isocalendar().week) \n",
    "    \n",
    "    df0['is_month_start'] = df0.index.is_month_start\n",
    "    df0['is_month_end'] = df0.index.is_month_end\n",
    "    df0['season'] = df0.index.month%12 // 3 + 1\n",
    "    \n",
    "    df0['is_month_start'] = df0['is_month_start'].replace({False: 0, True: 1})\n",
    "    df0['is_month_end'] = df0['is_month_end'].replace({False: 0, True: 1})\n",
    "    return df0"
   ]
  },
  {
   "cell_type": "markdown",
   "id": "461a9c00",
   "metadata": {
    "papermill": {
     "duration": 0.015727,
     "end_time": "2023-03-15T19:21:27.267457",
     "exception": false,
     "start_time": "2023-03-15T19:21:27.251730",
     "status": "completed"
    },
    "tags": []
   },
   "source": [
    "### Fit and Predict with Cross Validation Function"
   ]
  },
  {
   "cell_type": "code",
   "execution_count": 17,
   "id": "5ad9abd5",
   "metadata": {
    "execution": {
     "iopub.execute_input": "2023-03-15T19:21:27.301692Z",
     "iopub.status.busy": "2023-03-15T19:21:27.300949Z",
     "iopub.status.idle": "2023-03-15T19:21:27.314901Z",
     "shell.execute_reply": "2023-03-15T19:21:27.313795Z"
    },
    "papermill": {
     "duration": 0.034116,
     "end_time": "2023-03-15T19:21:27.317526",
     "exception": false,
     "start_time": "2023-03-15T19:21:27.283410",
     "status": "completed"
    },
    "tags": []
   },
   "outputs": [],
   "source": [
    "def fit_and_predict(train_=pd.DataFrame(), test_=pd.DataFrame(), TARGET='company', model=XGBRegressor()):\n",
    "    # Splitting Data\n",
    "    tss = TimeSeriesSplit(n_splits=3, test_size=60, gap=24)\n",
    "    train_ = train_.sort_index()\n",
    "\n",
    "    preds = []\n",
    "    scores = []\n",
    "\n",
    "    for fold, (train_idx, val_idx) in enumerate(tss.split(train_)):\n",
    "        train = train_.iloc[train_idx]\n",
    "        valid = train_.iloc[val_idx]\n",
    "\n",
    "        #Add new features\n",
    "        train = create_features(train)\n",
    "        valid = create_features(valid)\n",
    "        test = create_features(test_)\n",
    "\n",
    "        # Fixing missing values\n",
    "        train = train.fillna(0)\n",
    "        valid = valid.fillna(0)\n",
    "        test = test.fillna(0)\n",
    "        \n",
    "        FEATURES = [col for col in train.columns if col != TARGET ]\n",
    "\n",
    "        X_train = train[FEATURES]\n",
    "        y_train = train[TARGET]\n",
    "        X_valid = valid[FEATURES]\n",
    "        y_valid = valid[TARGET]\n",
    "        test = test[FEATURES]\n",
    "\n",
    "        # Training \n",
    "        model.fit(X_train, y_train,\n",
    "                eval_set=[(X_train, y_train), (X_valid, y_valid)],\n",
    "                verbose=0\n",
    "               )\n",
    "\n",
    "        # Validation\n",
    "        y_pred = model.predict(X_valid)\n",
    "\n",
    "        # Test prediction\n",
    "        prediction = model.predict(test)\n",
    "        preds.append(prediction)\n",
    "        \n",
    "        # Save Model\n",
    "        if not os.path.isdir(f\"./{TARGET}\"):\n",
    "            os.makedirs(f\"./{TARGET}\")\n",
    "\n",
    "        model.save_model(f'./{TARGET}/model{fold}.json')\n",
    "\n",
    "        # Evaluation\n",
    "        score = np.sqrt(mean_squared_error(y_valid, y_pred))\n",
    "        scores.append(score)\n",
    "        print(f\"Fold {fold} MSE Score : {score}\")\n",
    "        print(f\"{TARGET} predicted : {np.round(np.sum(prediction))} \\n\")\n",
    "\n",
    "    print('=> Total MSE Cross-Validation Scores : ', np.mean(scores), '\\n')\n",
    "    pred = np.mean(preds, axis=0)\n",
    "    total_value = np.sum(pred)\n",
    "    print(f'The real {TARGET} values are {test_[TARGET].sum()}, and the predicted {TARGET} values are {np.round(total_value)}')"
   ]
  },
  {
   "cell_type": "markdown",
   "id": "46cbefb1",
   "metadata": {
    "papermill": {
     "duration": 0.015289,
     "end_time": "2023-03-15T19:21:27.348586",
     "exception": false,
     "start_time": "2023-03-15T19:21:27.333297",
     "status": "completed"
    },
    "tags": []
   },
   "source": [
    "# Combien de sociétés seront créées en novembre 2022?\n",
    "\n",
    "Pour résoudre cette question, nous allons:\n",
    "\n",
    "- créer un model de machine learning\n",
    "- utiliser les données antérieures (de 3 ans) à cette date pour l’entrainnement de notre modèle\n",
    "- et tester notre modèle sur les données du novembre 2022\n"
   ]
  },
  {
   "cell_type": "code",
   "execution_count": 18,
   "id": "e134a11b",
   "metadata": {
    "execution": {
     "iopub.execute_input": "2023-03-15T19:21:27.382749Z",
     "iopub.status.busy": "2023-03-15T19:21:27.382292Z",
     "iopub.status.idle": "2023-03-15T19:21:27.770928Z",
     "shell.execute_reply": "2023-03-15T19:21:27.769720Z"
    },
    "papermill": {
     "duration": 0.409971,
     "end_time": "2023-03-15T19:21:27.774603",
     "exception": false,
     "start_time": "2023-03-15T19:21:27.364632",
     "status": "completed"
    },
    "tags": []
   },
   "outputs": [
    {
     "data": {
      "image/png": "[encoded data removed]",
      "text/plain": [
       "<Figure size 1080x360 with 1 Axes>"
      ]
     },
     "metadata": {},
     "output_type": "display_data"
    }
   ],
   "source": [
    "train_ = df_company.query(\"index >= '2019-10-01' and index < '2022-10-01' \").copy()\n",
    "test_ = df_company.query(\"index >= '2022-10-01' and index < '2022-11-01' \").copy()\n",
    "\n",
    "fig, ax = plt.subplots(figsize=(15, 5))\n",
    "train_.plot(ax=ax, label='Training Set', title='Companys data Train/Test Split')\n",
    "test_.plot(ax=ax, label='Test Set')\n",
    "ax.axvline('2022-10-01', color='black', ls='--')\n",
    "ax.legend(['Training Set', 'Test Set'])\n",
    "plt.show()"
   ]
  },
  {
   "cell_type": "markdown",
   "id": "e48b03f5",
   "metadata": {
    "papermill": {
     "duration": 0.016913,
     "end_time": "2023-03-15T19:21:27.809524",
     "exception": false,
     "start_time": "2023-03-15T19:21:27.792611",
     "status": "completed"
    },
    "tags": []
   },
   "source": [
    "#### Make Predition"
   ]
  },
  {
   "cell_type": "code",
   "execution_count": 19,
   "id": "f70b463e",
   "metadata": {
    "execution": {
     "iopub.execute_input": "2023-03-15T19:21:27.845938Z",
     "iopub.status.busy": "2023-03-15T19:21:27.845504Z",
     "iopub.status.idle": "2023-03-15T19:21:33.288241Z",
     "shell.execute_reply": "2023-03-15T19:21:33.285883Z"
    },
    "papermill": {
     "duration": 5.465637,
     "end_time": "2023-03-15T19:21:33.292485",
     "exception": false,
     "start_time": "2023-03-15T19:21:27.826848",
     "status": "completed"
    },
    "tags": []
   },
   "outputs": [
    {
     "name": "stdout",
     "output_type": "stream",
     "text": [
      "Fold 0 MSE Score : 12.882045892512885\n",
      "company predicted : 451.0 \n",
      "\n",
      "Fold 1 MSE Score : 11.464945642040723\n",
      "company predicted : 445.0 \n",
      "\n",
      "Fold 2 MSE Score : 7.868012309553738\n",
      "company predicted : 406.0 \n",
      "\n",
      "=> Total MSE Cross-Validation Scores :  10.73833461470245 \n",
      "\n",
      "The real company values are 436.0, and the predicted company values are 434.0\n"
     ]
    }
   ],
   "source": [
    "# Modeling\n",
    "model1 = XGBRegressor(base_score=0.5,\n",
    "                      booster='gbtree',    \n",
    "                      n_estimators=300,\n",
    "                      max_depth=5,\n",
    "                      learning_rate=0.01\n",
    "                     )\n",
    "TARGET = 'company'\n",
    "# Training and Prediction\n",
    "fit_and_predict(train_, test_, TARGET, model1)"
   ]
  },
  {
   "cell_type": "markdown",
   "id": "a1a0dfd7",
   "metadata": {
    "papermill": {
     "duration": 0.016883,
     "end_time": "2023-03-15T19:21:33.326864",
     "exception": false,
     "start_time": "2023-03-15T19:21:33.309981",
     "status": "completed"
    },
    "tags": []
   },
   "source": [
    "## Conclusion\n",
    "\n",
    "Notre modèle prédit que `434` Sociétés seront créées en Novembre 2022 contre `436` Sociétés réellements créées."
   ]
  },
  {
   "cell_type": "code",
   "execution_count": null,
   "id": "30b15ed1",
   "metadata": {
    "papermill": {
     "duration": 0.018229,
     "end_time": "2023-03-15T19:21:33.362551",
     "exception": false,
     "start_time": "2023-03-15T19:21:33.344322",
     "status": "completed"
    },
    "tags": []
   },
   "outputs": [],
   "source": []
  },
  {
   "cell_type": "markdown",
   "id": "e460c394",
   "metadata": {
    "papermill": {
     "duration": 0.016893,
     "end_time": "2023-03-15T19:21:33.396589",
     "exception": false,
     "start_time": "2023-03-15T19:21:33.379696",
     "status": "completed"
    },
    "tags": []
   },
   "source": [
    "# Combien de Sociétés seront créées en Décembre 2022?\n",
    "\n",
    "Pour y parvenir, nous allons :\n",
    "\n",
    "- générer une série de données du mois de Décembre sans compter les week-end\n",
    "- créer d'autres caratéristiques à base de celle de la DateTime dont nous disposons\n",
    "- utiliser les modèles précédemment entraîner pour la prédiction"
   ]
  },
  {
   "cell_type": "code",
   "execution_count": 20,
   "id": "3f7ffa5a",
   "metadata": {
    "execution": {
     "iopub.execute_input": "2023-03-15T19:21:33.432788Z",
     "iopub.status.busy": "2023-03-15T19:21:33.432331Z",
     "iopub.status.idle": "2023-03-15T19:21:33.462277Z",
     "shell.execute_reply": "2023-03-15T19:21:33.461079Z"
    },
    "papermill": {
     "duration": 0.050865,
     "end_time": "2023-03-15T19:21:33.464561",
     "exception": false,
     "start_time": "2023-03-15T19:21:33.413696",
     "status": "completed"
    },
    "tags": []
   },
   "outputs": [
    {
     "data": {
      "text/html": [
       "<div>\n",
       "<style scoped>\n",
       "    .dataframe tbody tr th:only-of-type {\n",
       "        vertical-align: middle;\n",
       "    }\n",
       "\n",
       "    .dataframe tbody tr th {\n",
       "        vertical-align: top;\n",
       "    }\n",
       "\n",
       "    .dataframe thead th {\n",
       "        text-align: right;\n",
       "    }\n",
       "</style>\n",
       "<table border=\"1\" class=\"dataframe\">\n",
       "  <thead>\n",
       "    <tr style=\"text-align: right;\">\n",
       "      <th></th>\n",
       "      <th>dayofweek</th>\n",
       "      <th>quarter</th>\n",
       "      <th>month</th>\n",
       "      <th>year</th>\n",
       "      <th>dayofyear</th>\n",
       "      <th>dayofmonth</th>\n",
       "      <th>weekofyear</th>\n",
       "      <th>is_month_start</th>\n",
       "      <th>is_month_end</th>\n",
       "      <th>season</th>\n",
       "    </tr>\n",
       "    <tr>\n",
       "      <th>Datetime</th>\n",
       "      <th></th>\n",
       "      <th></th>\n",
       "      <th></th>\n",
       "      <th></th>\n",
       "      <th></th>\n",
       "      <th></th>\n",
       "      <th></th>\n",
       "      <th></th>\n",
       "      <th></th>\n",
       "      <th></th>\n",
       "    </tr>\n",
       "  </thead>\n",
       "  <tbody>\n",
       "    <tr>\n",
       "      <th>2022-12-01</th>\n",
       "      <td>3</td>\n",
       "      <td>4</td>\n",
       "      <td>12</td>\n",
       "      <td>2022</td>\n",
       "      <td>335</td>\n",
       "      <td>1</td>\n",
       "      <td>48</td>\n",
       "      <td>1</td>\n",
       "      <td>0</td>\n",
       "      <td>1</td>\n",
       "    </tr>\n",
       "    <tr>\n",
       "      <th>2022-12-02</th>\n",
       "      <td>4</td>\n",
       "      <td>4</td>\n",
       "      <td>12</td>\n",
       "      <td>2022</td>\n",
       "      <td>336</td>\n",
       "      <td>2</td>\n",
       "      <td>48</td>\n",
       "      <td>0</td>\n",
       "      <td>0</td>\n",
       "      <td>1</td>\n",
       "    </tr>\n",
       "    <tr>\n",
       "      <th>2022-12-05</th>\n",
       "      <td>0</td>\n",
       "      <td>4</td>\n",
       "      <td>12</td>\n",
       "      <td>2022</td>\n",
       "      <td>339</td>\n",
       "      <td>5</td>\n",
       "      <td>49</td>\n",
       "      <td>0</td>\n",
       "      <td>0</td>\n",
       "      <td>1</td>\n",
       "    </tr>\n",
       "  </tbody>\n",
       "</table>\n",
       "</div>"
      ],
      "text/plain": [
       "            dayofweek  quarter  month  year  dayofyear  dayofmonth  \\\n",
       "Datetime                                                             \n",
       "2022-12-01          3        4     12  2022        335           1   \n",
       "2022-12-02          4        4     12  2022        336           2   \n",
       "2022-12-05          0        4     12  2022        339           5   \n",
       "\n",
       "            weekofyear  is_month_start  is_month_end  season  \n",
       "Datetime                                                      \n",
       "2022-12-01          48               1             0       1  \n",
       "2022-12-02          48               0             0       1  \n",
       "2022-12-05          49               0             0       1  "
      ]
     },
     "execution_count": 20,
     "metadata": {},
     "output_type": "execute_result"
    }
   ],
   "source": [
    "# Create future dataframe (without week-end data)\n",
    "future = pd.DataFrame(pd.date_range('2022-12-01','2022-12-31', freq='B'), columns=['Datetime'])\n",
    "future = future.set_index('Datetime')\n",
    "future = create_features(future)\n",
    "future = future.fillna(0)       # Fixing missing values\n",
    "future.head(3)"
   ]
  },
  {
   "cell_type": "markdown",
   "id": "47e948d3",
   "metadata": {
    "papermill": {
     "duration": 0.017229,
     "end_time": "2023-03-15T19:21:33.499191",
     "exception": false,
     "start_time": "2023-03-15T19:21:33.481962",
     "status": "completed"
    },
    "tags": []
   },
   "source": [
    "#### Prédiction"
   ]
  },
  {
   "cell_type": "code",
   "execution_count": 21,
   "id": "d7095ab5",
   "metadata": {
    "execution": {
     "iopub.execute_input": "2023-03-15T19:21:33.536147Z",
     "iopub.status.busy": "2023-03-15T19:21:33.535119Z",
     "iopub.status.idle": "2023-03-15T19:21:33.687449Z",
     "shell.execute_reply": "2023-03-15T19:21:33.686546Z"
    },
    "papermill": {
     "duration": 0.173223,
     "end_time": "2023-03-15T19:21:33.689880",
     "exception": false,
     "start_time": "2023-03-15T19:21:33.516657",
     "status": "completed"
    },
    "tags": []
   },
   "outputs": [
    {
     "name": "stdout",
     "output_type": "stream",
     "text": [
      "Fold 0 predict : 469.0 company\n",
      "Fold 1 predict : 413.0 company\n",
      "Fold 2 predict : 369.0 company\n",
      "Prédiction Total :  417.0\n"
     ]
    }
   ],
   "source": [
    "FEATURES = future.columns.tolist()\n",
    "\n",
    "predictions = []\n",
    "for fold in range(3):\n",
    "    reg_new = XGBRegressor()\n",
    "    reg_new.load_model(f'./{TARGET}/model{fold}.json') \n",
    "    \n",
    "    pred = reg_new.predict(future[FEATURES])\n",
    "    predictions.append(pred)\n",
    "    \n",
    "    print(f\"Fold {fold} predict : {np.round(np.sum(pred))} {TARGET}\")\n",
    "    \n",
    "pred = np.mean(predictions, axis=0)\n",
    "total_value = np.sum(pred)\n",
    "\n",
    "print(\"Prédiction Total : \", np.round(total_value))"
   ]
  },
  {
   "cell_type": "markdown",
   "id": "7988f463",
   "metadata": {
    "papermill": {
     "duration": 0.017369,
     "end_time": "2023-03-15T19:21:33.724804",
     "exception": false,
     "start_time": "2023-03-15T19:21:33.707435",
     "status": "completed"
    },
    "tags": []
   },
   "source": [
    "## Conclusion\n",
    "\n",
    "Notre modèle prédit que `417` Sociétés seront créées en Décembre 2022"
   ]
  },
  {
   "cell_type": "code",
   "execution_count": null,
   "id": "6b4c853b",
   "metadata": {
    "papermill": {
     "duration": 0.017349,
     "end_time": "2023-03-15T19:21:33.759815",
     "exception": false,
     "start_time": "2023-03-15T19:21:33.742466",
     "status": "completed"
    },
    "tags": []
   },
   "outputs": [],
   "source": []
  },
  {
   "cell_type": "markdown",
   "id": "2b596ef9",
   "metadata": {
    "papermill": {
     "duration": 0.017014,
     "end_time": "2023-03-15T19:21:33.794405",
     "exception": false,
     "start_time": "2023-03-15T19:21:33.777391",
     "status": "completed"
    },
    "tags": []
   },
   "source": [
    "# Combien d'établissements seront créées en novembre 2022?\n",
    "\n",
    "Pour résoudre cette question, nous allons:\n",
    "\n",
    "- créer un model de machine learning\n",
    "- utiliser les données antérieures (de 3 ans) à cette date pour l’entrainnement de notre modèle\n",
    "- et tester notre modèle sur les données du novembre 2022\n"
   ]
  },
  {
   "cell_type": "code",
   "execution_count": 22,
   "id": "db996c2f",
   "metadata": {
    "execution": {
     "iopub.execute_input": "2023-03-15T19:21:33.831552Z",
     "iopub.status.busy": "2023-03-15T19:21:33.830854Z",
     "iopub.status.idle": "2023-03-15T19:21:34.183636Z",
     "shell.execute_reply": "2023-03-15T19:21:34.182181Z"
    },
    "papermill": {
     "duration": 0.374938,
     "end_time": "2023-03-15T19:21:34.186714",
     "exception": false,
     "start_time": "2023-03-15T19:21:33.811776",
     "status": "completed"
    },
    "tags": []
   },
   "outputs": [
    {
     "data": {
      "image/png": "[encoded data removed]",
      "text/plain": [
       "<Figure size 1080x360 with 1 Axes>"
      ]
     },
     "metadata": {},
     "output_type": "display_data"
    }
   ],
   "source": [
    "train_est = df_establishment.query(\"index >= '2019-10-01' and index < '2022-10-01' \").copy()\n",
    "test_est = df_establishment.query(\"index >= '2022-10-01' and index < '2022-11-01' \").copy()\n",
    "\n",
    "fig, ax = plt.subplots(figsize=(15, 5))\n",
    "train_est.plot(ax=ax, label='Training Set', title='Establishments data Train/Test Split')\n",
    "test_est.plot(ax=ax, label='Test Set')\n",
    "ax.axvline('2022-10-01', color='black', ls='--')\n",
    "ax.legend(['Training Set', 'Test Set'])\n",
    "plt.show()"
   ]
  },
  {
   "cell_type": "code",
   "execution_count": 23,
   "id": "6b774067",
   "metadata": {
    "execution": {
     "iopub.execute_input": "2023-03-15T19:21:34.228060Z",
     "iopub.status.busy": "2023-03-15T19:21:34.227647Z",
     "iopub.status.idle": "2023-03-15T19:23:05.240170Z",
     "shell.execute_reply": "2023-03-15T19:23:05.238845Z"
    },
    "papermill": {
     "duration": 91.051299,
     "end_time": "2023-03-15T19:23:05.258161",
     "exception": false,
     "start_time": "2023-03-15T19:21:34.206862",
     "status": "completed"
    },
    "tags": []
   },
   "outputs": [
    {
     "name": "stdout",
     "output_type": "stream",
     "text": [
      "Fold 0 MSE Score : 93.67554885726028\n",
      "establishment predicted : 4071.0 \n",
      "\n",
      "Fold 1 MSE Score : 75.03355465787686\n",
      "establishment predicted : 4196.0 \n",
      "\n",
      "Fold 2 MSE Score : 58.908320337612366\n",
      "establishment predicted : 4075.0 \n",
      "\n",
      "=> Total MSE Cross-Validation Scores :  75.87247461758317 \n",
      "\n",
      "The real establishment values are 4222.0, and the predicted establishment values are 4114.0\n"
     ]
    }
   ],
   "source": [
    "# Modeling\n",
    "model2 = XGBRegressor(base_score=0.5,\n",
    "                   booster='gbtree',    \n",
    "                   n_estimators=3500,\n",
    "                   max_depth=12,\n",
    "                   learning_rate=0.01\n",
    "                   )\n",
    "\n",
    "TARGET = \"establishment\"\n",
    "\n",
    "# Training and Prediction\n",
    "fit_and_predict(train_est, test_est, TARGET, model2)"
   ]
  },
  {
   "cell_type": "markdown",
   "id": "793ca12c",
   "metadata": {
    "papermill": {
     "duration": 0.019227,
     "end_time": "2023-03-15T19:23:05.296569",
     "exception": false,
     "start_time": "2023-03-15T19:23:05.277342",
     "status": "completed"
    },
    "tags": []
   },
   "source": [
    "## Conclusion\n",
    "\n",
    "Notre modèle prédit que `4114` Établissements seront créées en Novembre 2022 contre `4222` Établissements réellements créées."
   ]
  },
  {
   "cell_type": "code",
   "execution_count": null,
   "id": "270b2016",
   "metadata": {
    "papermill": {
     "duration": 0.019084,
     "end_time": "2023-03-15T19:23:05.335011",
     "exception": false,
     "start_time": "2023-03-15T19:23:05.315927",
     "status": "completed"
    },
    "tags": []
   },
   "outputs": [],
   "source": []
  },
  {
   "cell_type": "markdown",
   "id": "1022711e",
   "metadata": {
    "papermill": {
     "duration": 0.019098,
     "end_time": "2023-03-15T19:23:05.373574",
     "exception": false,
     "start_time": "2023-03-15T19:23:05.354476",
     "status": "completed"
    },
    "tags": []
   },
   "source": [
    "# Combien d'établissements seront créées en Décembre 2022?\n",
    "\n",
    "Même procédé que celui de la prédiction du nombre de Sociétés qui seront créées en Décembre 2022 \n"
   ]
  },
  {
   "cell_type": "code",
   "execution_count": 24,
   "id": "6a36af4c",
   "metadata": {
    "execution": {
     "iopub.execute_input": "2023-03-15T19:23:05.416288Z",
     "iopub.status.busy": "2023-03-15T19:23:05.415385Z",
     "iopub.status.idle": "2023-03-15T19:23:05.431157Z",
     "shell.execute_reply": "2023-03-15T19:23:05.429508Z"
    },
    "papermill": {
     "duration": 0.040971,
     "end_time": "2023-03-15T19:23:05.434073",
     "exception": false,
     "start_time": "2023-03-15T19:23:05.393102",
     "status": "completed"
    },
    "tags": []
   },
   "outputs": [
    {
     "data": {
      "text/html": [
       "<div>\n",
       "<style scoped>\n",
       "    .dataframe tbody tr th:only-of-type {\n",
       "        vertical-align: middle;\n",
       "    }\n",
       "\n",
       "    .dataframe tbody tr th {\n",
       "        vertical-align: top;\n",
       "    }\n",
       "\n",
       "    .dataframe thead th {\n",
       "        text-align: right;\n",
       "    }\n",
       "</style>\n",
       "<table border=\"1\" class=\"dataframe\">\n",
       "  <thead>\n",
       "    <tr style=\"text-align: right;\">\n",
       "      <th></th>\n",
       "      <th>dayofweek</th>\n",
       "      <th>quarter</th>\n",
       "      <th>month</th>\n",
       "      <th>year</th>\n",
       "      <th>dayofyear</th>\n",
       "      <th>dayofmonth</th>\n",
       "      <th>weekofyear</th>\n",
       "      <th>is_month_start</th>\n",
       "      <th>is_month_end</th>\n",
       "      <th>season</th>\n",
       "    </tr>\n",
       "    <tr>\n",
       "      <th>Datetime</th>\n",
       "      <th></th>\n",
       "      <th></th>\n",
       "      <th></th>\n",
       "      <th></th>\n",
       "      <th></th>\n",
       "      <th></th>\n",
       "      <th></th>\n",
       "      <th></th>\n",
       "      <th></th>\n",
       "      <th></th>\n",
       "    </tr>\n",
       "  </thead>\n",
       "  <tbody>\n",
       "    <tr>\n",
       "      <th>2022-12-01</th>\n",
       "      <td>3</td>\n",
       "      <td>4</td>\n",
       "      <td>12</td>\n",
       "      <td>2022</td>\n",
       "      <td>335</td>\n",
       "      <td>1</td>\n",
       "      <td>48</td>\n",
       "      <td>1</td>\n",
       "      <td>0</td>\n",
       "      <td>1</td>\n",
       "    </tr>\n",
       "    <tr>\n",
       "      <th>2022-12-02</th>\n",
       "      <td>4</td>\n",
       "      <td>4</td>\n",
       "      <td>12</td>\n",
       "      <td>2022</td>\n",
       "      <td>336</td>\n",
       "      <td>2</td>\n",
       "      <td>48</td>\n",
       "      <td>0</td>\n",
       "      <td>0</td>\n",
       "      <td>1</td>\n",
       "    </tr>\n",
       "    <tr>\n",
       "      <th>2022-12-05</th>\n",
       "      <td>0</td>\n",
       "      <td>4</td>\n",
       "      <td>12</td>\n",
       "      <td>2022</td>\n",
       "      <td>339</td>\n",
       "      <td>5</td>\n",
       "      <td>49</td>\n",
       "      <td>0</td>\n",
       "      <td>0</td>\n",
       "      <td>1</td>\n",
       "    </tr>\n",
       "  </tbody>\n",
       "</table>\n",
       "</div>"
      ],
      "text/plain": [
       "            dayofweek  quarter  month  year  dayofyear  dayofmonth  \\\n",
       "Datetime                                                             \n",
       "2022-12-01          3        4     12  2022        335           1   \n",
       "2022-12-02          4        4     12  2022        336           2   \n",
       "2022-12-05          0        4     12  2022        339           5   \n",
       "\n",
       "            weekofyear  is_month_start  is_month_end  season  \n",
       "Datetime                                                      \n",
       "2022-12-01          48               1             0       1  \n",
       "2022-12-02          48               0             0       1  \n",
       "2022-12-05          49               0             0       1  "
      ]
     },
     "execution_count": 24,
     "metadata": {},
     "output_type": "execute_result"
    }
   ],
   "source": [
    "# Nous réutilisons les données précédemment générées\n",
    "future.head(3)"
   ]
  },
  {
   "cell_type": "code",
   "execution_count": 25,
   "id": "5c01536b",
   "metadata": {
    "execution": {
     "iopub.execute_input": "2023-03-15T19:23:05.476217Z",
     "iopub.status.busy": "2023-03-15T19:23:05.475358Z",
     "iopub.status.idle": "2023-03-15T19:23:12.143658Z",
     "shell.execute_reply": "2023-03-15T19:23:12.142588Z"
    },
    "papermill": {
     "duration": 6.692354,
     "end_time": "2023-03-15T19:23:12.146358",
     "exception": false,
     "start_time": "2023-03-15T19:23:05.454004",
     "status": "completed"
    },
    "tags": []
   },
   "outputs": [
    {
     "name": "stdout",
     "output_type": "stream",
     "text": [
      "Fold 0 predict : 3869.0 establishment\n",
      "Fold 1 predict : 3884.0 establishment\n",
      "Fold 2 predict : 3950.0 establishment\n",
      "Prédiction Total :  3901.0\n"
     ]
    }
   ],
   "source": [
    "FEATURES = future.columns.tolist()\n",
    "\n",
    "predictions = []\n",
    "for fold in range(3):\n",
    "    reg_new = XGBRegressor()\n",
    "    reg_new.load_model(f'./{TARGET}/model{fold}.json') \n",
    "    \n",
    "    pred = reg_new.predict(future[FEATURES])\n",
    "    predictions.append(pred)\n",
    "    \n",
    "    print(f\"Fold {fold} predict : {np.round(np.sum(pred))} {TARGET}\")\n",
    "    \n",
    "pred = np.mean(predictions, axis=0)\n",
    "total_value = np.sum(pred)\n",
    "\n",
    "print(\"Prédiction Total : \", np.round(total_value))"
   ]
  },
  {
   "cell_type": "markdown",
   "id": "cea6f866",
   "metadata": {
    "papermill": {
     "duration": 0.020001,
     "end_time": "2023-03-15T19:23:12.186575",
     "exception": false,
     "start_time": "2023-03-15T19:23:12.166574",
     "status": "completed"
    },
    "tags": []
   },
   "source": [
    "## Conclusion\n",
    "\n",
    "Notre modèle prédit que `3900` Établissements seront créées en Décembre 2022\n"
   ]
  },
  {
   "cell_type": "code",
   "execution_count": null,
   "id": "278a712f",
   "metadata": {
    "papermill": {
     "duration": 0.019442,
     "end_time": "2023-03-15T19:23:12.225757",
     "exception": false,
     "start_time": "2023-03-15T19:23:12.206315",
     "status": "completed"
    },
    "tags": []
   },
   "outputs": [],
   "source": []
  },
  {
   "cell_type": "markdown",
   "id": "1a2a51d7",
   "metadata": {
    "papermill": {
     "duration": 0.01928,
     "end_time": "2023-03-15T19:23:12.264632",
     "exception": false,
     "start_time": "2023-03-15T19:23:12.245352",
     "status": "completed"
    },
    "tags": []
   },
   "source": [
    "# Conclusion Générale\n",
    "\n",
    "- De nombreuses Algorithmes de Machine Learning ont été expérimentés (tels que `LGBMRegressor`, `LinearRegression`, `CatBoostRegressor` et `RandomForestRegressor`) et nous avions remarqué que l'algorithme `XGBRegressor` était le meilleur sur cet ensemble de données.\n",
    "\n",
    "\n",
    "- On pourrait reprendre l'exercice en s'intéresseant aux nombres d'Etablissements et Sociétés qui pourront être créés dans les mois à venir. \n",
    "\n",
    "- En prenant en considération des facteurs comme les domaines d'activités, on pourrait avoir de bonnes prédictions à l'avenir, car d'autres domaines d'activités se crée de jour en jour."
   ]
  },
  {
   "cell_type": "code",
   "execution_count": null,
   "id": "7663cfb8",
   "metadata": {
    "papermill": {
     "duration": 0.019377,
     "end_time": "2023-03-15T19:23:12.303674",
     "exception": false,
     "start_time": "2023-03-15T19:23:12.284297",
     "status": "completed"
    },
    "tags": []
   },
   "outputs": [],
   "source": []
  },
  {
   "cell_type": "markdown",
   "id": "9a973d8a",
   "metadata": {
    "papermill": {
     "duration": 0.019588,
     "end_time": "2023-03-15T19:23:12.342945",
     "exception": false,
     "start_time": "2023-03-15T19:23:12.323357",
     "status": "completed"
    },
    "tags": []
   },
   "source": [
    "# Ressources\n",
    "\n",
    "> Original Data source : https://monentreprise.bj/dashboards/public"
   ]
  }
 ],
 "metadata": {
  "kernelspec": {
   "display_name": "Python 3",
   "language": "python",
   "name": "python3"
  },
  "language_info": {
   "codemirror_mode": {
    "name": "ipython",
    "version": 3
   },
   "file_extension": ".py",
   "mimetype": "text/x-python",
   "name": "python",
   "nbconvert_exporter": "python",
   "pygments_lexer": "ipython3",
   "version": "3.7.12"
  },
  "papermill": {
   "default_parameters": {},
   "duration": 122.016517,
   "end_time": "2023-03-15T19:23:13.285808",
   "environment_variables": {},
   "exception": null,
   "input_path": "__notebook__.ipynb",
   "output_path": "__notebook__.ipynb",
   "parameters": {},
   "start_time": "2023-03-15T19:21:11.269291",
   "version": "2.3.4"
  }
 },
 "nbformat": 4,
 "nbformat_minor": 5
}
