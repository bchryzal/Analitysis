{
 "cells": [
  {
   "cell_type": "markdown",
   "id": "d7456f2b",
   "metadata": {
    "papermill": {
     "duration": 0.01202,
     "end_time": "2022-12-04T20:43:31.423790",
     "exception": false,
     "start_time": "2022-12-04T20:43:31.411770",
     "status": "completed"
    },
    "tags": []
   },
   "source": [
    "# Création d'Entreprises et Sociétés au Bénin (2018-2022)\n",
    "\n",
    "### Introduction\n",
    "\n",
    "Nous disposons des données de la création d'Entreprises et Sociétés au Bénin depuis le **01/01/2018**. Nous avions donc décidé de l'utiliser pour mener une petite étude, dans le but de plus nous familiariser aux données de **Time Series** (Séries Temporaire).\n",
    "\n",
    "### Objectif\n",
    "\n",
    "Nous nous intéressons dans cette étude aux nombres d'Entreprises et Sociétés qui pourront être créés en Décembre 2022.\n",
    "\n",
    "### Méthodologie\n",
    "\n",
    "Nous allons mener cette étude sivante les étapes suivantes :\n",
    "\n",
    "- Importation des librairies nécessaires\n",
    "- Chargement des données\n",
    "- Compréhension des données\n",
    "- Nétoyage des données\n",
    "- Création de nouvelle caratéristique à base des anciennes\n",
    "- Fractionnement des données d'entraînement et de validation\n",
    "- Entrainement, validation, évaluations et sauvegare des modèles\n",
    "- Prédiction des valeurs\n",
    "- Conclusion \n",
    "\n",
    "### Original Data Source\n",
    "\n",
    "Website : https://monentreprise.bj/dashboards/public\n",
    "\n",
    "\n",
    "### Original Author\n",
    "\n",
    "- Chryzal Beaudelaire ZOSSOU\n",
    "- [GitHub](https://github.com/bchryzal)\n",
    "- [LinkedIn](https://www.linkedin.com/in/chryzal/)"
   ]
  },
  {
   "cell_type": "markdown",
   "id": "3a1b5d17",
   "metadata": {
    "papermill": {
     "duration": 0.011297,
     "end_time": "2022-12-04T20:43:31.445660",
     "exception": false,
     "start_time": "2022-12-04T20:43:31.434363",
     "status": "completed"
    },
    "tags": []
   },
   "source": [
    "#### Importing Libraries"
   ]
  },
  {
   "cell_type": "code",
   "execution_count": 1,
   "id": "3473eaf9",
   "metadata": {
    "_cell_guid": "b1076dfc-b9ad-4769-8c92-a6c4dae69d19",
    "_uuid": "8f2839f25d086af736a60e9eeb907d3b93b6e0e5",
    "execution": {
     "iopub.execute_input": "2022-12-04T20:43:31.469072Z",
     "iopub.status.busy": "2022-12-04T20:43:31.468019Z",
     "iopub.status.idle": "2022-12-04T20:43:34.227386Z",
     "shell.execute_reply": "2022-12-04T20:43:34.226174Z"
    },
    "papermill": {
     "duration": 2.773967,
     "end_time": "2022-12-04T20:43:34.230178",
     "exception": false,
     "start_time": "2022-12-04T20:43:31.456211",
     "status": "completed"
    },
    "tags": []
   },
   "outputs": [
    {
     "data": {
      "text/html": [
       "<style type='text/css'>\n",
       ".datatable table.frame { margin-bottom: 0; }\n",
       ".datatable table.frame thead { border-bottom: none; }\n",
       ".datatable table.frame tr.coltypes td {  color: #FFFFFF;  line-height: 6px;  padding: 0 0.5em;}\n",
       ".datatable .bool    { background: #DDDD99; }\n",
       ".datatable .object  { background: #565656; }\n",
       ".datatable .int     { background: #5D9E5D; }\n",
       ".datatable .float   { background: #4040CC; }\n",
       ".datatable .str     { background: #CC4040; }\n",
       ".datatable .time    { background: #40CC40; }\n",
       ".datatable .row_index {  background: var(--jp-border-color3);  border-right: 1px solid var(--jp-border-color0);  color: var(--jp-ui-font-color3);  font-size: 9px;}\n",
       ".datatable .frame tbody td { text-align: left; }\n",
       ".datatable .frame tr.coltypes .row_index {  background: var(--jp-border-color0);}\n",
       ".datatable th:nth-child(2) { padding-left: 12px; }\n",
       ".datatable .hellipsis {  color: var(--jp-cell-editor-border-color);}\n",
       ".datatable .vellipsis {  background: var(--jp-layout-color0);  color: var(--jp-cell-editor-border-color);}\n",
       ".datatable .na {  color: var(--jp-cell-editor-border-color);  font-size: 80%;}\n",
       ".datatable .sp {  opacity: 0.25;}\n",
       ".datatable .footer { font-size: 9px; }\n",
       ".datatable .frame_dimensions {  background: var(--jp-border-color3);  border-top: 1px solid var(--jp-border-color0);  color: var(--jp-ui-font-color3);  display: inline-block;  opacity: 0.6;  padding: 1px 10px 1px 5px;}\n",
       ".datatable .frame thead tr.colnames {  background-image: url('data:image/png;base64,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');  background-repeat: repeat-x;  background-size: 14px;  height: 28px;}\n",
       "</style>\n"
      ],
      "text/plain": [
       "<IPython.core.display.HTML object>"
      ]
     },
     "metadata": {},
     "output_type": "display_data"
    }
   ],
   "source": [
    "import numpy as np # linear algebra\n",
    "import pandas as pd # data processing, CSV file I/O (e.g. pd.read_csv)\n",
    "import os\n",
    "\n",
    "import matplotlib.pyplot as plt\n",
    "import seaborn as sns\n",
    "\n",
    "from xgboost import XGBRegressor\n",
    "from lightgbm import LGBMRegressor\n",
    "from sklearn.linear_model import LinearRegression\n",
    "from catboost import CatBoostRegressor\n",
    "from sklearn.ensemble import VotingRegressor, RandomForestRegressor\n",
    "\n",
    "from sklearn.model_selection import TimeSeriesSplit\n",
    "from sklearn.metrics import mean_squared_error\n",
    "\n",
    "color_pal = sns.color_palette()"
   ]
  },
  {
   "cell_type": "markdown",
   "id": "d45bd84c",
   "metadata": {
    "papermill": {
     "duration": 0.011691,
     "end_time": "2022-12-04T20:43:34.253625",
     "exception": false,
     "start_time": "2022-12-04T20:43:34.241934",
     "status": "completed"
    },
    "tags": []
   },
   "source": [
    "#### Loading Data"
   ]
  },
  {
   "cell_type": "code",
   "execution_count": 2,
   "id": "f81635b8",
   "metadata": {
    "execution": {
     "iopub.execute_input": "2022-12-04T20:43:34.277941Z",
     "iopub.status.busy": "2022-12-04T20:43:34.277562Z",
     "iopub.status.idle": "2022-12-04T20:43:34.764908Z",
     "shell.execute_reply": "2022-12-04T20:43:34.764202Z"
    },
    "papermill": {
     "duration": 0.502658,
     "end_time": "2022-12-04T20:43:34.766967",
     "exception": false,
     "start_time": "2022-12-04T20:43:34.264309",
     "status": "completed"
    },
    "tags": []
   },
   "outputs": [
    {
     "data": {
      "text/html": [
       "<div>\n",
       "<style scoped>\n",
       "    .dataframe tbody tr th:only-of-type {\n",
       "        vertical-align: middle;\n",
       "    }\n",
       "\n",
       "    .dataframe tbody tr th {\n",
       "        vertical-align: top;\n",
       "    }\n",
       "\n",
       "    .dataframe thead th {\n",
       "        text-align: right;\n",
       "    }\n",
       "</style>\n",
       "<table border=\"1\" class=\"dataframe\">\n",
       "  <thead>\n",
       "    <tr style=\"text-align: right;\">\n",
       "      <th></th>\n",
       "      <th>category</th>\n",
       "      <th>Créer une société</th>\n",
       "      <th>Créer un établissement</th>\n",
       "    </tr>\n",
       "  </thead>\n",
       "  <tbody>\n",
       "    <tr>\n",
       "      <th>0</th>\n",
       "      <td>2018-01-02</td>\n",
       "      <td>5.0</td>\n",
       "      <td>22.0</td>\n",
       "    </tr>\n",
       "    <tr>\n",
       "      <th>1</th>\n",
       "      <td>2018-01-03</td>\n",
       "      <td>15.0</td>\n",
       "      <td>53.0</td>\n",
       "    </tr>\n",
       "    <tr>\n",
       "      <th>2</th>\n",
       "      <td>2018-01-04</td>\n",
       "      <td>19.0</td>\n",
       "      <td>55.0</td>\n",
       "    </tr>\n",
       "    <tr>\n",
       "      <th>3</th>\n",
       "      <td>2018-01-05</td>\n",
       "      <td>16.0</td>\n",
       "      <td>82.0</td>\n",
       "    </tr>\n",
       "    <tr>\n",
       "      <th>4</th>\n",
       "      <td>2018-01-08</td>\n",
       "      <td>16.0</td>\n",
       "      <td>43.0</td>\n",
       "    </tr>\n",
       "  </tbody>\n",
       "</table>\n",
       "</div>"
      ],
      "text/plain": [
       "     category  Créer une société  Créer un établissement\n",
       "0  2018-01-02                5.0                    22.0\n",
       "1  2018-01-03               15.0                    53.0\n",
       "2  2018-01-04               19.0                    55.0\n",
       "3  2018-01-05               16.0                    82.0\n",
       "4  2018-01-08               16.0                    43.0"
      ]
     },
     "execution_count": 2,
     "metadata": {},
     "output_type": "execute_result"
    }
   ],
   "source": [
    "data = pd.read_excel('/kaggle/input/crations-dentreprises-par-jour-au-bnin/entreprise_and_societe.xlsx')\n",
    "data.head()"
   ]
  },
  {
   "cell_type": "markdown",
   "id": "5b2f3963",
   "metadata": {
    "papermill": {
     "duration": 0.010832,
     "end_time": "2022-12-04T20:43:34.789275",
     "exception": false,
     "start_time": "2022-12-04T20:43:34.778443",
     "status": "completed"
    },
    "tags": []
   },
   "source": [
    "# Undestanding Data"
   ]
  },
  {
   "cell_type": "markdown",
   "id": "5f2cbfb2",
   "metadata": {
    "papermill": {
     "duration": 0.011672,
     "end_time": "2022-12-04T20:43:34.812003",
     "exception": false,
     "start_time": "2022-12-04T20:43:34.800331",
     "status": "completed"
    },
    "tags": []
   },
   "source": [
    "#### Data dimensions"
   ]
  },
  {
   "cell_type": "code",
   "execution_count": 3,
   "id": "1a9ff04f",
   "metadata": {
    "execution": {
     "iopub.execute_input": "2022-12-04T20:43:34.837211Z",
     "iopub.status.busy": "2022-12-04T20:43:34.836115Z",
     "iopub.status.idle": "2022-12-04T20:43:34.843507Z",
     "shell.execute_reply": "2022-12-04T20:43:34.842204Z"
    },
    "papermill": {
     "duration": 0.023134,
     "end_time": "2022-12-04T20:43:34.846419",
     "exception": false,
     "start_time": "2022-12-04T20:43:34.823285",
     "status": "completed"
    },
    "tags": []
   },
   "outputs": [
    {
     "data": {
      "text/plain": [
       "(1254, 3)"
      ]
     },
     "execution_count": 3,
     "metadata": {},
     "output_type": "execute_result"
    }
   ],
   "source": [
    "data.shape"
   ]
  },
  {
   "cell_type": "code",
   "execution_count": 4,
   "id": "ff97734a",
   "metadata": {
    "execution": {
     "iopub.execute_input": "2022-12-04T20:43:34.870112Z",
     "iopub.status.busy": "2022-12-04T20:43:34.869762Z",
     "iopub.status.idle": "2022-12-04T20:43:34.895151Z",
     "shell.execute_reply": "2022-12-04T20:43:34.893827Z"
    },
    "papermill": {
     "duration": 0.03965,
     "end_time": "2022-12-04T20:43:34.897255",
     "exception": false,
     "start_time": "2022-12-04T20:43:34.857605",
     "status": "completed"
    },
    "tags": []
   },
   "outputs": [
    {
     "name": "stdout",
     "output_type": "stream",
     "text": [
      "<class 'pandas.core.frame.DataFrame'>\n",
      "RangeIndex: 1254 entries, 0 to 1253\n",
      "Data columns (total 3 columns):\n",
      " #   Column                  Non-Null Count  Dtype  \n",
      "---  ------                  --------------  -----  \n",
      " 0   category                1254 non-null   object \n",
      " 1   Créer une société       1236 non-null   float64\n",
      " 2   Créer un établissement  1251 non-null   float64\n",
      "dtypes: float64(2), object(1)\n",
      "memory usage: 29.5+ KB\n"
     ]
    }
   ],
   "source": [
    "data.info()"
   ]
  },
  {
   "cell_type": "markdown",
   "id": "810407f4",
   "metadata": {
    "papermill": {
     "duration": 0.011259,
     "end_time": "2022-12-04T20:43:34.920339",
     "exception": false,
     "start_time": "2022-12-04T20:43:34.909080",
     "status": "completed"
    },
    "tags": []
   },
   "source": [
    "Valeurs manquantes"
   ]
  },
  {
   "cell_type": "code",
   "execution_count": 5,
   "id": "e265449d",
   "metadata": {
    "execution": {
     "iopub.execute_input": "2022-12-04T20:43:34.943989Z",
     "iopub.status.busy": "2022-12-04T20:43:34.943593Z",
     "iopub.status.idle": "2022-12-04T20:43:34.951480Z",
     "shell.execute_reply": "2022-12-04T20:43:34.950296Z"
    },
    "papermill": {
     "duration": 0.022032,
     "end_time": "2022-12-04T20:43:34.953381",
     "exception": false,
     "start_time": "2022-12-04T20:43:34.931349",
     "status": "completed"
    },
    "tags": []
   },
   "outputs": [
    {
     "data": {
      "text/plain": [
       "category                   0\n",
       "Créer une société         18\n",
       "Créer un établissement     3\n",
       "dtype: int64"
      ]
     },
     "execution_count": 5,
     "metadata": {},
     "output_type": "execute_result"
    }
   ],
   "source": [
    "data.isna().sum()"
   ]
  },
  {
   "cell_type": "code",
   "execution_count": null,
   "id": "acd8942c",
   "metadata": {
    "papermill": {
     "duration": 0.010818,
     "end_time": "2022-12-04T20:43:34.975421",
     "exception": false,
     "start_time": "2022-12-04T20:43:34.964603",
     "status": "completed"
    },
    "tags": []
   },
   "outputs": [],
   "source": []
  },
  {
   "cell_type": "markdown",
   "id": "0d324022",
   "metadata": {
    "papermill": {
     "duration": 0.010924,
     "end_time": "2022-12-04T20:43:34.997947",
     "exception": false,
     "start_time": "2022-12-04T20:43:34.987023",
     "status": "completed"
    },
    "tags": []
   },
   "source": [
    "# Pre-processing Data"
   ]
  },
  {
   "cell_type": "code",
   "execution_count": 6,
   "id": "dd2d5da7",
   "metadata": {
    "execution": {
     "iopub.execute_input": "2022-12-04T20:43:35.022446Z",
     "iopub.status.busy": "2022-12-04T20:43:35.021892Z",
     "iopub.status.idle": "2022-12-04T20:43:35.031597Z",
     "shell.execute_reply": "2022-12-04T20:43:35.030908Z"
    },
    "papermill": {
     "duration": 0.024804,
     "end_time": "2022-12-04T20:43:35.033959",
     "exception": false,
     "start_time": "2022-12-04T20:43:35.009155",
     "status": "completed"
    },
    "tags": []
   },
   "outputs": [
    {
     "data": {
      "text/html": [
       "<div>\n",
       "<style scoped>\n",
       "    .dataframe tbody tr th:only-of-type {\n",
       "        vertical-align: middle;\n",
       "    }\n",
       "\n",
       "    .dataframe tbody tr th {\n",
       "        vertical-align: top;\n",
       "    }\n",
       "\n",
       "    .dataframe thead th {\n",
       "        text-align: right;\n",
       "    }\n",
       "</style>\n",
       "<table border=\"1\" class=\"dataframe\">\n",
       "  <thead>\n",
       "    <tr style=\"text-align: right;\">\n",
       "      <th></th>\n",
       "      <th>category</th>\n",
       "      <th>Créer une société</th>\n",
       "      <th>Créer un établissement</th>\n",
       "    </tr>\n",
       "  </thead>\n",
       "  <tbody>\n",
       "    <tr>\n",
       "      <th>0</th>\n",
       "      <td>2018-01-02</td>\n",
       "      <td>5.0</td>\n",
       "      <td>22.0</td>\n",
       "    </tr>\n",
       "    <tr>\n",
       "      <th>1</th>\n",
       "      <td>2018-01-03</td>\n",
       "      <td>15.0</td>\n",
       "      <td>53.0</td>\n",
       "    </tr>\n",
       "    <tr>\n",
       "      <th>2</th>\n",
       "      <td>2018-01-04</td>\n",
       "      <td>19.0</td>\n",
       "      <td>55.0</td>\n",
       "    </tr>\n",
       "    <tr>\n",
       "      <th>3</th>\n",
       "      <td>2018-01-05</td>\n",
       "      <td>16.0</td>\n",
       "      <td>82.0</td>\n",
       "    </tr>\n",
       "    <tr>\n",
       "      <th>4</th>\n",
       "      <td>2018-01-08</td>\n",
       "      <td>16.0</td>\n",
       "      <td>43.0</td>\n",
       "    </tr>\n",
       "  </tbody>\n",
       "</table>\n",
       "</div>"
      ],
      "text/plain": [
       "     category  Créer une société  Créer un établissement\n",
       "0  2018-01-02                5.0                    22.0\n",
       "1  2018-01-03               15.0                    53.0\n",
       "2  2018-01-04               19.0                    55.0\n",
       "3  2018-01-05               16.0                    82.0\n",
       "4  2018-01-08               16.0                    43.0"
      ]
     },
     "execution_count": 6,
     "metadata": {},
     "output_type": "execute_result"
    }
   ],
   "source": [
    "df = data.copy()\n",
    "df.head()"
   ]
  },
  {
   "cell_type": "markdown",
   "id": "0b1fbfc0",
   "metadata": {
    "papermill": {
     "duration": 0.010963,
     "end_time": "2022-12-04T20:43:35.056084",
     "exception": false,
     "start_time": "2022-12-04T20:43:35.045121",
     "status": "completed"
    },
    "tags": []
   },
   "source": [
    "Rename all columns"
   ]
  },
  {
   "cell_type": "code",
   "execution_count": 7,
   "id": "def2aaa2",
   "metadata": {
    "execution": {
     "iopub.execute_input": "2022-12-04T20:43:35.080232Z",
     "iopub.status.busy": "2022-12-04T20:43:35.079629Z",
     "iopub.status.idle": "2022-12-04T20:43:35.085893Z",
     "shell.execute_reply": "2022-12-04T20:43:35.084828Z"
    },
    "papermill": {
     "duration": 0.021278,
     "end_time": "2022-12-04T20:43:35.088530",
     "exception": false,
     "start_time": "2022-12-04T20:43:35.067252",
     "status": "completed"
    },
    "tags": []
   },
   "outputs": [
    {
     "data": {
      "text/plain": [
       "Index(['Datetime', 'company', 'establishment'], dtype='object')"
      ]
     },
     "execution_count": 7,
     "metadata": {},
     "output_type": "execute_result"
    }
   ],
   "source": [
    "df.columns = ['Datetime','company','establishment']\n",
    "df.columns"
   ]
  },
  {
   "cell_type": "markdown",
   "id": "aa6e5279",
   "metadata": {
    "papermill": {
     "duration": 0.011,
     "end_time": "2022-12-04T20:43:35.111449",
     "exception": false,
     "start_time": "2022-12-04T20:43:35.100449",
     "status": "completed"
    },
    "tags": []
   },
   "source": [
    "Set `Datetime` to index"
   ]
  },
  {
   "cell_type": "code",
   "execution_count": 8,
   "id": "d5635269",
   "metadata": {
    "execution": {
     "iopub.execute_input": "2022-12-04T20:43:35.136145Z",
     "iopub.status.busy": "2022-12-04T20:43:35.135616Z",
     "iopub.status.idle": "2022-12-04T20:43:35.150336Z",
     "shell.execute_reply": "2022-12-04T20:43:35.149254Z"
    },
    "papermill": {
     "duration": 0.02955,
     "end_time": "2022-12-04T20:43:35.152413",
     "exception": false,
     "start_time": "2022-12-04T20:43:35.122863",
     "status": "completed"
    },
    "tags": []
   },
   "outputs": [
    {
     "data": {
      "text/html": [
       "<div>\n",
       "<style scoped>\n",
       "    .dataframe tbody tr th:only-of-type {\n",
       "        vertical-align: middle;\n",
       "    }\n",
       "\n",
       "    .dataframe tbody tr th {\n",
       "        vertical-align: top;\n",
       "    }\n",
       "\n",
       "    .dataframe thead th {\n",
       "        text-align: right;\n",
       "    }\n",
       "</style>\n",
       "<table border=\"1\" class=\"dataframe\">\n",
       "  <thead>\n",
       "    <tr style=\"text-align: right;\">\n",
       "      <th></th>\n",
       "      <th>company</th>\n",
       "      <th>establishment</th>\n",
       "    </tr>\n",
       "    <tr>\n",
       "      <th>Datetime</th>\n",
       "      <th></th>\n",
       "      <th></th>\n",
       "    </tr>\n",
       "  </thead>\n",
       "  <tbody>\n",
       "    <tr>\n",
       "      <th>2018-01-02</th>\n",
       "      <td>5.0</td>\n",
       "      <td>22.0</td>\n",
       "    </tr>\n",
       "    <tr>\n",
       "      <th>2018-01-03</th>\n",
       "      <td>15.0</td>\n",
       "      <td>53.0</td>\n",
       "    </tr>\n",
       "    <tr>\n",
       "      <th>2018-01-04</th>\n",
       "      <td>19.0</td>\n",
       "      <td>55.0</td>\n",
       "    </tr>\n",
       "    <tr>\n",
       "      <th>2018-01-05</th>\n",
       "      <td>16.0</td>\n",
       "      <td>82.0</td>\n",
       "    </tr>\n",
       "    <tr>\n",
       "      <th>2018-01-08</th>\n",
       "      <td>16.0</td>\n",
       "      <td>43.0</td>\n",
       "    </tr>\n",
       "  </tbody>\n",
       "</table>\n",
       "</div>"
      ],
      "text/plain": [
       "            company  establishment\n",
       "Datetime                          \n",
       "2018-01-02      5.0           22.0\n",
       "2018-01-03     15.0           53.0\n",
       "2018-01-04     19.0           55.0\n",
       "2018-01-05     16.0           82.0\n",
       "2018-01-08     16.0           43.0"
      ]
     },
     "execution_count": 8,
     "metadata": {},
     "output_type": "execute_result"
    }
   ],
   "source": [
    "df = df.set_index('Datetime')\n",
    "df.index = pd.to_datetime(df.index)\n",
    "df.head()"
   ]
  },
  {
   "cell_type": "markdown",
   "id": "0cd3a000",
   "metadata": {
    "papermill": {
     "duration": 0.010926,
     "end_time": "2022-12-04T20:43:35.174931",
     "exception": false,
     "start_time": "2022-12-04T20:43:35.164005",
     "status": "completed"
    },
    "tags": []
   },
   "source": [
    "Ici nous allons remplacer les `21` valeurs manquantes par la valeur `0`"
   ]
  },
  {
   "cell_type": "code",
   "execution_count": 9,
   "id": "c749fac6",
   "metadata": {
    "execution": {
     "iopub.execute_input": "2022-12-04T20:43:35.199517Z",
     "iopub.status.busy": "2022-12-04T20:43:35.198918Z",
     "iopub.status.idle": "2022-12-04T20:43:35.204896Z",
     "shell.execute_reply": "2022-12-04T20:43:35.204137Z"
    },
    "papermill": {
     "duration": 0.021347,
     "end_time": "2022-12-04T20:43:35.207450",
     "exception": false,
     "start_time": "2022-12-04T20:43:35.186103",
     "status": "completed"
    },
    "tags": []
   },
   "outputs": [
    {
     "name": "stdout",
     "output_type": "stream",
     "text": [
      "Valeurs manquantes total : 21\n"
     ]
    }
   ],
   "source": [
    "print(\"Valeurs manquantes total :\", df.isna().sum().sum())\n",
    "df = df.fillna(0)"
   ]
  },
  {
   "cell_type": "markdown",
   "id": "930c27a9",
   "metadata": {
    "papermill": {
     "duration": 0.011249,
     "end_time": "2022-12-04T20:43:35.230493",
     "exception": false,
     "start_time": "2022-12-04T20:43:35.219244",
     "status": "completed"
    },
    "tags": []
   },
   "source": [
    "# Exploratory Data Analysis"
   ]
  },
  {
   "cell_type": "code",
   "execution_count": 10,
   "id": "acba0adc",
   "metadata": {
    "_kg_hide-input": true,
    "execution": {
     "iopub.execute_input": "2022-12-04T20:43:35.255209Z",
     "iopub.status.busy": "2022-12-04T20:43:35.254691Z",
     "iopub.status.idle": "2022-12-04T20:43:35.640842Z",
     "shell.execute_reply": "2022-12-04T20:43:35.639491Z"
    },
    "papermill": {
     "duration": 0.401063,
     "end_time": "2022-12-04T20:43:35.643120",
     "exception": false,
     "start_time": "2022-12-04T20:43:35.242057",
     "status": "completed"
    },
    "tags": []
   },
   "outputs": [
    {
     "data": {
      "image/png": "[encoded data removed]",
      "text/plain": [
       "<Figure size 1080x360 with 1 Axes>"
      ]
     },
     "metadata": {
      "needs_background": "light"
     },
     "output_type": "display_data"
    }
   ],
   "source": [
    "df['company'].plot(style='.',\n",
    "        figsize=(15, 5),\n",
    "        color=color_pal[1],\n",
    "        title=\"Création de Sociétés au Bénin\")\n",
    "plt.show()"
   ]
  },
  {
   "cell_type": "code",
   "execution_count": 11,
   "id": "88244a9c",
   "metadata": {
    "_kg_hide-input": true,
    "execution": {
     "iopub.execute_input": "2022-12-04T20:43:35.670638Z",
     "iopub.status.busy": "2022-12-04T20:43:35.670250Z",
     "iopub.status.idle": "2022-12-04T20:43:35.872160Z",
     "shell.execute_reply": "2022-12-04T20:43:35.870897Z"
    },
    "papermill": {
     "duration": 0.21825,
     "end_time": "2022-12-04T20:43:35.874406",
     "exception": false,
     "start_time": "2022-12-04T20:43:35.656156",
     "status": "completed"
    },
    "tags": []
   },
   "outputs": [
    {
     "data": {
      "image/png": "[encoded data removed]",
      "text/plain": [
       "<Figure size 1080x360 with 1 Axes>"
      ]
     },
     "metadata": {
      "needs_background": "light"
     },
     "output_type": "display_data"
    }
   ],
   "source": [
    "df['establishment'].plot(style='.',\n",
    "        figsize=(15, 5),\n",
    "        color=color_pal[0],\n",
    "        title=\"Création d'Entreprises au Bénin\")\n",
    "plt.show()"
   ]
  },
  {
   "cell_type": "markdown",
   "id": "ffec3af3",
   "metadata": {
    "papermill": {
     "duration": 0.011927,
     "end_time": "2022-12-04T20:43:35.899587",
     "exception": false,
     "start_time": "2022-12-04T20:43:35.887660",
     "status": "completed"
    },
    "tags": []
   },
   "source": [
    "#### Outlier Analysis "
   ]
  },
  {
   "cell_type": "code",
   "execution_count": 12,
   "id": "b8487eff",
   "metadata": {
    "_kg_hide-input": true,
    "execution": {
     "iopub.execute_input": "2022-12-04T20:43:35.927113Z",
     "iopub.status.busy": "2022-12-04T20:43:35.925800Z",
     "iopub.status.idle": "2022-12-04T20:43:36.227386Z",
     "shell.execute_reply": "2022-12-04T20:43:36.226286Z"
    },
    "papermill": {
     "duration": 0.31744,
     "end_time": "2022-12-04T20:43:36.229515",
     "exception": false,
     "start_time": "2022-12-04T20:43:35.912075",
     "status": "completed"
    },
    "tags": []
   },
   "outputs": [
    {
     "data": {
      "text/plain": [
       "<AxesSubplot:ylabel='Frequency'>"
      ]
     },
     "execution_count": 12,
     "metadata": {},
     "output_type": "execute_result"
    },
    {
     "data": {
      "image/png": "[encoded data removed]",
      "text/plain": [
       "<Figure size 432x288 with 1 Axes>"
      ]
     },
     "metadata": {
      "needs_background": "light"
     },
     "output_type": "display_data"
    }
   ],
   "source": [
    "df['company'].plot(kind='hist', bins=100)"
   ]
  },
  {
   "cell_type": "code",
   "execution_count": 13,
   "id": "8e570486",
   "metadata": {
    "_kg_hide-input": true,
    "execution": {
     "iopub.execute_input": "2022-12-04T20:43:36.257400Z",
     "iopub.status.busy": "2022-12-04T20:43:36.256239Z",
     "iopub.status.idle": "2022-12-04T20:43:36.576016Z",
     "shell.execute_reply": "2022-12-04T20:43:36.574614Z"
    },
    "papermill": {
     "duration": 0.336193,
     "end_time": "2022-12-04T20:43:36.578439",
     "exception": false,
     "start_time": "2022-12-04T20:43:36.242246",
     "status": "completed"
    },
    "tags": []
   },
   "outputs": [
    {
     "data": {
      "text/plain": [
       "<AxesSubplot:ylabel='Frequency'>"
      ]
     },
     "execution_count": 13,
     "metadata": {},
     "output_type": "execute_result"
    },
    {
     "data": {
      "image/png": "[encoded data removed]",
      "text/plain": [
       "<Figure size 432x288 with 1 Axes>"
      ]
     },
     "metadata": {
      "needs_background": "light"
     },
     "output_type": "display_data"
    }
   ],
   "source": [
    "df['establishment'].plot(kind='hist', bins=100)"
   ]
  },
  {
   "cell_type": "code",
   "execution_count": null,
   "id": "1dc18191",
   "metadata": {
    "papermill": {
     "duration": 0.01419,
     "end_time": "2022-12-04T20:43:36.606029",
     "exception": false,
     "start_time": "2022-12-04T20:43:36.591839",
     "status": "completed"
    },
    "tags": []
   },
   "outputs": [],
   "source": []
  },
  {
   "cell_type": "markdown",
   "id": "c0b37acd",
   "metadata": {
    "papermill": {
     "duration": 0.01318,
     "end_time": "2022-12-04T20:43:36.632940",
     "exception": false,
     "start_time": "2022-12-04T20:43:36.619760",
     "status": "completed"
    },
    "tags": []
   },
   "source": [
    "#### Séparation des données de sociétés et d'établissements  "
   ]
  },
  {
   "cell_type": "code",
   "execution_count": 14,
   "id": "7642ee19",
   "metadata": {
    "execution": {
     "iopub.execute_input": "2022-12-04T20:43:36.660878Z",
     "iopub.status.busy": "2022-12-04T20:43:36.660449Z",
     "iopub.status.idle": "2022-12-04T20:43:36.669178Z",
     "shell.execute_reply": "2022-12-04T20:43:36.668269Z"
    },
    "papermill": {
     "duration": 0.025125,
     "end_time": "2022-12-04T20:43:36.671186",
     "exception": false,
     "start_time": "2022-12-04T20:43:36.646061",
     "status": "completed"
    },
    "tags": []
   },
   "outputs": [
    {
     "data": {
      "text/plain": [
       "((1254, 1), (1254, 1))"
      ]
     },
     "execution_count": 14,
     "metadata": {},
     "output_type": "execute_result"
    }
   ],
   "source": [
    "df_company = pd.DataFrame(df['company'].copy()) \n",
    "df_establishment = pd.DataFrame(df['establishment'].copy())\n",
    "\n",
    "df_company.shape, df_establishment.shape"
   ]
  },
  {
   "cell_type": "markdown",
   "id": "ae6dc03a",
   "metadata": {
    "papermill": {
     "duration": 0.012781,
     "end_time": "2022-12-04T20:43:36.697435",
     "exception": false,
     "start_time": "2022-12-04T20:43:36.684654",
     "status": "completed"
    },
    "tags": []
   },
   "source": [
    "#### Abscence des données des week-end\n",
    "\n",
    "Nous pouvons observer dans nos données qu'il n'y a aucune données sur les week-end"
   ]
  },
  {
   "cell_type": "code",
   "execution_count": 15,
   "id": "8a107415",
   "metadata": {
    "execution": {
     "iopub.execute_input": "2022-12-04T20:43:36.725257Z",
     "iopub.status.busy": "2022-12-04T20:43:36.724875Z",
     "iopub.status.idle": "2022-12-04T20:43:36.738816Z",
     "shell.execute_reply": "2022-12-04T20:43:36.737418Z"
    },
    "papermill": {
     "duration": 0.0307,
     "end_time": "2022-12-04T20:43:36.741120",
     "exception": false,
     "start_time": "2022-12-04T20:43:36.710420",
     "status": "completed"
    },
    "tags": []
   },
   "outputs": [
    {
     "data": {
      "text/html": [
       "<div>\n",
       "<style scoped>\n",
       "    .dataframe tbody tr th:only-of-type {\n",
       "        vertical-align: middle;\n",
       "    }\n",
       "\n",
       "    .dataframe tbody tr th {\n",
       "        vertical-align: top;\n",
       "    }\n",
       "\n",
       "    .dataframe thead th {\n",
       "        text-align: right;\n",
       "    }\n",
       "</style>\n",
       "<table border=\"1\" class=\"dataframe\">\n",
       "  <thead>\n",
       "    <tr style=\"text-align: right;\">\n",
       "      <th></th>\n",
       "      <th>company</th>\n",
       "    </tr>\n",
       "    <tr>\n",
       "      <th>Datetime</th>\n",
       "      <th></th>\n",
       "    </tr>\n",
       "  </thead>\n",
       "  <tbody>\n",
       "  </tbody>\n",
       "</table>\n",
       "</div>"
      ],
      "text/plain": [
       "Empty DataFrame\n",
       "Columns: [company]\n",
       "Index: []"
      ]
     },
     "execution_count": 15,
     "metadata": {},
     "output_type": "execute_result"
    }
   ],
   "source": [
    "df_company.query(\"index >= '2022-11-12' and index < '2022-11-14' \")"
   ]
  },
  {
   "cell_type": "markdown",
   "id": "d96e6e3e",
   "metadata": {
    "papermill": {
     "duration": 0.01317,
     "end_time": "2022-12-04T20:43:36.767758",
     "exception": false,
     "start_time": "2022-12-04T20:43:36.754588",
     "status": "completed"
    },
    "tags": []
   },
   "source": [
    "# Utils"
   ]
  },
  {
   "cell_type": "markdown",
   "id": "795ab80e",
   "metadata": {
    "papermill": {
     "duration": 0.013563,
     "end_time": "2022-12-04T20:43:36.794830",
     "exception": false,
     "start_time": "2022-12-04T20:43:36.781267",
     "status": "completed"
    },
    "tags": []
   },
   "source": [
    "### Feature Engineering : Forecasting Horizon Explained\n",
    "\n",
    "The forecast horizon is the length of time into the future for which forecasts are to be prepared. These generally vary from short-term forecasting horizons (less than three months) to long-term horizons (more than two years).\n",
    "\n",
    "**Création de nouvelle caractéristiques à base de celle de DateTime**"
   ]
  },
  {
   "cell_type": "code",
   "execution_count": 16,
   "id": "d4677531",
   "metadata": {
    "execution": {
     "iopub.execute_input": "2022-12-04T20:43:36.826828Z",
     "iopub.status.busy": "2022-12-04T20:43:36.826361Z",
     "iopub.status.idle": "2022-12-04T20:43:36.835493Z",
     "shell.execute_reply": "2022-12-04T20:43:36.833858Z"
    },
    "papermill": {
     "duration": 0.027355,
     "end_time": "2022-12-04T20:43:36.837571",
     "exception": false,
     "start_time": "2022-12-04T20:43:36.810216",
     "status": "completed"
    },
    "tags": []
   },
   "outputs": [],
   "source": [
    "def create_features(df0):\n",
    "    \"\"\"\n",
    "    Create time series features based on time series index.\n",
    "    \"\"\"\n",
    "    df0 = df0.copy()\n",
    "    \n",
    "    df0['dayofweek']  = df0.index.dayofweek\n",
    "    df0['quarter']    = df0.index.quarter\n",
    "    df0['month']      = df0.index.month\n",
    "    df0['year']       = df0.index.year\n",
    "    df0['dayofyear']  = df0.index.dayofyear\n",
    "    df0['dayofmonth'] = df0.index.day\n",
    "    df0['weekofyear'] = np.int32(df0.index.isocalendar().week) \n",
    "    \n",
    "    df0['is_month_start'] = df0.index.is_month_start\n",
    "    df0['is_month_end'] = df0.index.is_month_end\n",
    "    df0['season'] = df0.index.month%12 // 3 + 1\n",
    "    \n",
    "    df0['is_month_start'] = df0['is_month_start'].replace({False: 0, True: 1})\n",
    "    df0['is_month_end'] = df0['is_month_end'].replace({False: 0, True: 1})\n",
    "    return df0"
   ]
  },
  {
   "cell_type": "markdown",
   "id": "51c4f606",
   "metadata": {
    "papermill": {
     "duration": 0.013195,
     "end_time": "2022-12-04T20:43:36.865424",
     "exception": false,
     "start_time": "2022-12-04T20:43:36.852229",
     "status": "completed"
    },
    "tags": []
   },
   "source": [
    "### Fit and Predict with Cross Validation Function"
   ]
  },
  {
   "cell_type": "code",
   "execution_count": 17,
   "id": "d932ef63",
   "metadata": {
    "execution": {
     "iopub.execute_input": "2022-12-04T20:43:36.895185Z",
     "iopub.status.busy": "2022-12-04T20:43:36.894160Z",
     "iopub.status.idle": "2022-12-04T20:43:36.906995Z",
     "shell.execute_reply": "2022-12-04T20:43:36.905954Z"
    },
    "papermill": {
     "duration": 0.030321,
     "end_time": "2022-12-04T20:43:36.909479",
     "exception": false,
     "start_time": "2022-12-04T20:43:36.879158",
     "status": "completed"
    },
    "tags": []
   },
   "outputs": [],
   "source": [
    "def fit_and_predict(train_=pd.DataFrame(), test_=pd.DataFrame(), TARGET='company', model=XGBRegressor()):\n",
    "    # Splitting Data\n",
    "    tss = TimeSeriesSplit(n_splits=3, test_size=60, gap=24)\n",
    "    train_ = train_.sort_index()\n",
    "\n",
    "    preds = []\n",
    "    scores = []\n",
    "\n",
    "    for fold, (train_idx, val_idx) in enumerate(tss.split(train_)):\n",
    "        train = train_.iloc[train_idx]\n",
    "        valid = train_.iloc[val_idx]\n",
    "\n",
    "        #Add new features\n",
    "        train = create_features(train)\n",
    "        valid = create_features(valid)\n",
    "        test = create_features(test_)\n",
    "\n",
    "        # Fixing missing values\n",
    "        train = train.fillna(0)\n",
    "        valid = valid.fillna(0)\n",
    "        test = test.fillna(0)\n",
    "        \n",
    "        FEATURES = [col for col in train.columns if col != TARGET ]\n",
    "\n",
    "        X_train = train[FEATURES]\n",
    "        y_train = train[TARGET]\n",
    "        X_valid = valid[FEATURES]\n",
    "        y_valid = valid[TARGET]\n",
    "        test = test[FEATURES]\n",
    "\n",
    "        # Training \n",
    "        model.fit(X_train, y_train,\n",
    "                eval_set=[(X_train, y_train), (X_valid, y_valid)],\n",
    "                verbose=0\n",
    "               )\n",
    "\n",
    "        # Validation\n",
    "        y_pred = model.predict(X_valid)\n",
    "\n",
    "        # Test prediction\n",
    "        prediction = model.predict(test)\n",
    "        preds.append(prediction)\n",
    "        \n",
    "        # Save Model\n",
    "        if not os.path.isdir(f\"./{TARGET}\"):\n",
    "            os.makedirs(f\"./{TARGET}\")\n",
    "\n",
    "        model.save_model(f'./{TARGET}/model{fold}.json')\n",
    "\n",
    "        # Evaluation\n",
    "        score = np.sqrt(mean_squared_error(y_valid, y_pred))\n",
    "        scores.append(score)\n",
    "        print(f\"Fold {fold} MSE Score : {score}\")\n",
    "        print(f\"{TARGET} predicted : {np.round(np.sum(prediction))} \\n\")\n",
    "\n",
    "    print('=> Total MSE Cross-Validation Scores : ', np.mean(scores), '\\n')\n",
    "    pred = np.mean(preds, axis=0)\n",
    "    total_value = np.sum(pred)\n",
    "    print(f'The real {TARGET} values are {test_[TARGET].sum()}, and the predicted {TARGET} values are {np.round(total_value)}')"
   ]
  },
  {
   "cell_type": "markdown",
   "id": "89fd97df",
   "metadata": {
    "papermill": {
     "duration": 0.013627,
     "end_time": "2022-12-04T20:43:36.936835",
     "exception": false,
     "start_time": "2022-12-04T20:43:36.923208",
     "status": "completed"
    },
    "tags": []
   },
   "source": [
    "# Combien de sociétés seront créées en novembre 2022?\n",
    "\n",
    "Pour résoudre cette question, nous allons:\n",
    "\n",
    "- créer un model de machine learning\n",
    "- utiliser les données antérieures (de 3 ans) à cette date pour l’entrainnement de notre modèle\n",
    "- et tester notre modèle sur les données du novembre 2022\n"
   ]
  },
  {
   "cell_type": "code",
   "execution_count": 18,
   "id": "c696258f",
   "metadata": {
    "execution": {
     "iopub.execute_input": "2022-12-04T20:43:36.965514Z",
     "iopub.status.busy": "2022-12-04T20:43:36.965172Z",
     "iopub.status.idle": "2022-12-04T20:43:37.250311Z",
     "shell.execute_reply": "2022-12-04T20:43:37.248791Z"
    },
    "papermill": {
     "duration": 0.302099,
     "end_time": "2022-12-04T20:43:37.252545",
     "exception": false,
     "start_time": "2022-12-04T20:43:36.950446",
     "status": "completed"
    },
    "tags": []
   },
   "outputs": [
    {
     "data": {
      "image/png": "[encoded data removed]",
      "text/plain": [
       "<Figure size 1080x360 with 1 Axes>"
      ]
     },
     "metadata": {
      "needs_background": "light"
     },
     "output_type": "display_data"
    }
   ],
   "source": [
    "train_ = df_company.query(\"index >= '2019-10-01' and index < '2022-10-01' \").copy()\n",
    "test_ = df_company.query(\"index >= '2022-10-01' and index < '2022-11-01' \").copy()\n",
    "\n",
    "fig, ax = plt.subplots(figsize=(15, 5))\n",
    "train_.plot(ax=ax, label='Training Set', title='Companys data Train/Test Split')\n",
    "test_.plot(ax=ax, label='Test Set')\n",
    "ax.axvline('2022-10-01', color='black', ls='--')\n",
    "ax.legend(['Training Set', 'Test Set'])\n",
    "plt.show()"
   ]
  },
  {
   "cell_type": "markdown",
   "id": "e3d8266a",
   "metadata": {
    "papermill": {
     "duration": 0.013983,
     "end_time": "2022-12-04T20:43:37.281814",
     "exception": false,
     "start_time": "2022-12-04T20:43:37.267831",
     "status": "completed"
    },
    "tags": []
   },
   "source": [
    "#### Make Predition"
   ]
  },
  {
   "cell_type": "code",
   "execution_count": 19,
   "id": "705e4507",
   "metadata": {
    "execution": {
     "iopub.execute_input": "2022-12-04T20:43:37.311863Z",
     "iopub.status.busy": "2022-12-04T20:43:37.311515Z",
     "iopub.status.idle": "2022-12-04T20:43:40.895885Z",
     "shell.execute_reply": "2022-12-04T20:43:40.894631Z"
    },
    "papermill": {
     "duration": 3.602109,
     "end_time": "2022-12-04T20:43:40.898333",
     "exception": false,
     "start_time": "2022-12-04T20:43:37.296224",
     "status": "completed"
    },
    "tags": []
   },
   "outputs": [
    {
     "name": "stdout",
     "output_type": "stream",
     "text": [
      "Fold 0 MSE Score : 12.882045892512885\n",
      "company predicted : 451.0 \n",
      "\n",
      "Fold 1 MSE Score : 11.464945642040723\n",
      "company predicted : 445.0 \n",
      "\n",
      "Fold 2 MSE Score : 7.868012309553738\n",
      "company predicted : 406.0 \n",
      "\n",
      "=> Total MSE Cross-Validation Scores :  10.73833461470245 \n",
      "\n",
      "The real company values are 436.0, and the predicted company values are 434.0\n"
     ]
    }
   ],
   "source": [
    "# Modeling\n",
    "model1 = XGBRegressor(base_score=0.5,\n",
    "                      booster='gbtree',    \n",
    "                      n_estimators=300,\n",
    "                      max_depth=5,\n",
    "                      learning_rate=0.01\n",
    "                     )\n",
    "TARGET = 'company'\n",
    "# Training and Prediction\n",
    "fit_and_predict(train_, test_, TARGET, model1)"
   ]
  },
  {
   "cell_type": "markdown",
   "id": "244edde0",
   "metadata": {
    "papermill": {
     "duration": 0.013671,
     "end_time": "2022-12-04T20:43:40.926953",
     "exception": false,
     "start_time": "2022-12-04T20:43:40.913282",
     "status": "completed"
    },
    "tags": []
   },
   "source": [
    "## Conclusion\n",
    "\n",
    "Notre modèle prédit que `434` Sociétés seront créées en Novembre 2022 contre `436` Sociétés réellements créées."
   ]
  },
  {
   "cell_type": "code",
   "execution_count": null,
   "id": "ee25b019",
   "metadata": {
    "papermill": {
     "duration": 0.013997,
     "end_time": "2022-12-04T20:43:40.955110",
     "exception": false,
     "start_time": "2022-12-04T20:43:40.941113",
     "status": "completed"
    },
    "tags": []
   },
   "outputs": [],
   "source": []
  },
  {
   "cell_type": "markdown",
   "id": "ce480eb8",
   "metadata": {
    "papermill": {
     "duration": 0.013883,
     "end_time": "2022-12-04T20:43:40.982995",
     "exception": false,
     "start_time": "2022-12-04T20:43:40.969112",
     "status": "completed"
    },
    "tags": []
   },
   "source": [
    "# Combien de Sociétés seront créées en Décembre 2022?\n",
    "\n",
    "Pour y parvenir, nous allons :\n",
    "\n",
    "- générer une série de données du mois de Décembre sans compter les week-end\n",
    "- créer d'autres caratéristiques à base de celle de la DateTime dont nous disposons\n",
    "- utiliser les modèles précédemment entraîner pour la prédiction"
   ]
  },
  {
   "cell_type": "code",
   "execution_count": 20,
   "id": "bac297d0",
   "metadata": {
    "execution": {
     "iopub.execute_input": "2022-12-04T20:43:41.013586Z",
     "iopub.status.busy": "2022-12-04T20:43:41.013178Z",
     "iopub.status.idle": "2022-12-04T20:43:41.043574Z",
     "shell.execute_reply": "2022-12-04T20:43:41.042710Z"
    },
    "papermill": {
     "duration": 0.048199,
     "end_time": "2022-12-04T20:43:41.045469",
     "exception": false,
     "start_time": "2022-12-04T20:43:40.997270",
     "status": "completed"
    },
    "tags": []
   },
   "outputs": [
    {
     "data": {
      "text/html": [
       "<div>\n",
       "<style scoped>\n",
       "    .dataframe tbody tr th:only-of-type {\n",
       "        vertical-align: middle;\n",
       "    }\n",
       "\n",
       "    .dataframe tbody tr th {\n",
       "        vertical-align: top;\n",
       "    }\n",
       "\n",
       "    .dataframe thead th {\n",
       "        text-align: right;\n",
       "    }\n",
       "</style>\n",
       "<table border=\"1\" class=\"dataframe\">\n",
       "  <thead>\n",
       "    <tr style=\"text-align: right;\">\n",
       "      <th></th>\n",
       "      <th>dayofweek</th>\n",
       "      <th>quarter</th>\n",
       "      <th>month</th>\n",
       "      <th>year</th>\n",
       "      <th>dayofyear</th>\n",
       "      <th>dayofmonth</th>\n",
       "      <th>weekofyear</th>\n",
       "      <th>is_month_start</th>\n",
       "      <th>is_month_end</th>\n",
       "      <th>season</th>\n",
       "    </tr>\n",
       "    <tr>\n",
       "      <th>Datetime</th>\n",
       "      <th></th>\n",
       "      <th></th>\n",
       "      <th></th>\n",
       "      <th></th>\n",
       "      <th></th>\n",
       "      <th></th>\n",
       "      <th></th>\n",
       "      <th></th>\n",
       "      <th></th>\n",
       "      <th></th>\n",
       "    </tr>\n",
       "  </thead>\n",
       "  <tbody>\n",
       "    <tr>\n",
       "      <th>2022-12-01</th>\n",
       "      <td>3</td>\n",
       "      <td>4</td>\n",
       "      <td>12</td>\n",
       "      <td>2022</td>\n",
       "      <td>335</td>\n",
       "      <td>1</td>\n",
       "      <td>48</td>\n",
       "      <td>1</td>\n",
       "      <td>0</td>\n",
       "      <td>1</td>\n",
       "    </tr>\n",
       "    <tr>\n",
       "      <th>2022-12-02</th>\n",
       "      <td>4</td>\n",
       "      <td>4</td>\n",
       "      <td>12</td>\n",
       "      <td>2022</td>\n",
       "      <td>336</td>\n",
       "      <td>2</td>\n",
       "      <td>48</td>\n",
       "      <td>0</td>\n",
       "      <td>0</td>\n",
       "      <td>1</td>\n",
       "    </tr>\n",
       "    <tr>\n",
       "      <th>2022-12-05</th>\n",
       "      <td>0</td>\n",
       "      <td>4</td>\n",
       "      <td>12</td>\n",
       "      <td>2022</td>\n",
       "      <td>339</td>\n",
       "      <td>5</td>\n",
       "      <td>49</td>\n",
       "      <td>0</td>\n",
       "      <td>0</td>\n",
       "      <td>1</td>\n",
       "    </tr>\n",
       "  </tbody>\n",
       "</table>\n",
       "</div>"
      ],
      "text/plain": [
       "            dayofweek  quarter  month  year  dayofyear  dayofmonth  \\\n",
       "Datetime                                                             \n",
       "2022-12-01          3        4     12  2022        335           1   \n",
       "2022-12-02          4        4     12  2022        336           2   \n",
       "2022-12-05          0        4     12  2022        339           5   \n",
       "\n",
       "            weekofyear  is_month_start  is_month_end  season  \n",
       "Datetime                                                      \n",
       "2022-12-01          48               1             0       1  \n",
       "2022-12-02          48               0             0       1  \n",
       "2022-12-05          49               0             0       1  "
      ]
     },
     "execution_count": 20,
     "metadata": {},
     "output_type": "execute_result"
    }
   ],
   "source": [
    "# Create future dataframe (without week-end data)\n",
    "future = pd.DataFrame(pd.date_range('2022-12-01','2022-12-31', freq='B'), columns=['Datetime'])\n",
    "future = future.set_index('Datetime')\n",
    "future = create_features(future)\n",
    "future = future.fillna(0)       # Fixing missing values\n",
    "future.head(3)"
   ]
  },
  {
   "cell_type": "markdown",
   "id": "964f5bb1",
   "metadata": {
    "papermill": {
     "duration": 0.015088,
     "end_time": "2022-12-04T20:43:41.075415",
     "exception": false,
     "start_time": "2022-12-04T20:43:41.060327",
     "status": "completed"
    },
    "tags": []
   },
   "source": [
    "#### Prédiction"
   ]
  },
  {
   "cell_type": "code",
   "execution_count": 21,
   "id": "fb672066",
   "metadata": {
    "execution": {
     "iopub.execute_input": "2022-12-04T20:43:41.107326Z",
     "iopub.status.busy": "2022-12-04T20:43:41.106720Z",
     "iopub.status.idle": "2022-12-04T20:43:41.225139Z",
     "shell.execute_reply": "2022-12-04T20:43:41.224411Z"
    },
    "papermill": {
     "duration": 0.136509,
     "end_time": "2022-12-04T20:43:41.227106",
     "exception": false,
     "start_time": "2022-12-04T20:43:41.090597",
     "status": "completed"
    },
    "tags": []
   },
   "outputs": [
    {
     "name": "stdout",
     "output_type": "stream",
     "text": [
      "Fold 0 predict : 469.0 company\n",
      "Fold 1 predict : 413.0 company\n",
      "Fold 2 predict : 369.0 company\n",
      "Prédiction Total :  417.0\n"
     ]
    }
   ],
   "source": [
    "FEATURES = future.columns.tolist()\n",
    "\n",
    "predictions = []\n",
    "for fold in range(3):\n",
    "    reg_new = XGBRegressor()\n",
    "    reg_new.load_model(f'./{TARGET}/model{fold}.json') \n",
    "    \n",
    "    pred = reg_new.predict(future[FEATURES])\n",
    "    predictions.append(pred)\n",
    "    \n",
    "    print(f\"Fold {fold} predict : {np.round(np.sum(pred))} {TARGET}\")\n",
    "    \n",
    "pred = np.mean(predictions, axis=0)\n",
    "total_value = np.sum(pred)\n",
    "\n",
    "print(\"Prédiction Total : \", np.round(total_value))"
   ]
  },
  {
   "cell_type": "markdown",
   "id": "871f73c5",
   "metadata": {
    "papermill": {
     "duration": 0.014076,
     "end_time": "2022-12-04T20:43:41.256545",
     "exception": false,
     "start_time": "2022-12-04T20:43:41.242469",
     "status": "completed"
    },
    "tags": []
   },
   "source": [
    "## Conclusion\n",
    "\n",
    "Notre modèle prédit que `417` Sociétés seront créées en Décembre 2022"
   ]
  },
  {
   "cell_type": "code",
   "execution_count": null,
   "id": "995cac85",
   "metadata": {
    "papermill": {
     "duration": 0.014319,
     "end_time": "2022-12-04T20:43:41.285413",
     "exception": false,
     "start_time": "2022-12-04T20:43:41.271094",
     "status": "completed"
    },
    "tags": []
   },
   "outputs": [],
   "source": []
  },
  {
   "cell_type": "markdown",
   "id": "cb61e18a",
   "metadata": {
    "papermill": {
     "duration": 0.014414,
     "end_time": "2022-12-04T20:43:41.314558",
     "exception": false,
     "start_time": "2022-12-04T20:43:41.300144",
     "status": "completed"
    },
    "tags": []
   },
   "source": [
    "# Combien d'établissements seront créées en novembre 2022?\n",
    "\n",
    "Pour résoudre cette question, nous allons:\n",
    "\n",
    "- créer un model de machine learning\n",
    "- utiliser les données antérieures (de 3 ans) à cette date pour l’entrainnement de notre modèle\n",
    "- et tester notre modèle sur les données du novembre 2022\n"
   ]
  },
  {
   "cell_type": "code",
   "execution_count": 22,
   "id": "17cfa15c",
   "metadata": {
    "execution": {
     "iopub.execute_input": "2022-12-04T20:43:41.347540Z",
     "iopub.status.busy": "2022-12-04T20:43:41.346870Z",
     "iopub.status.idle": "2022-12-04T20:43:41.623503Z",
     "shell.execute_reply": "2022-12-04T20:43:41.622552Z"
    },
    "papermill": {
     "duration": 0.295253,
     "end_time": "2022-12-04T20:43:41.625567",
     "exception": false,
     "start_time": "2022-12-04T20:43:41.330314",
     "status": "completed"
    },
    "tags": []
   },
   "outputs": [
    {
     "data": {
      "image/png": "[encoded data removed]",
      "text/plain": [
       "<Figure size 1080x360 with 1 Axes>"
      ]
     },
     "metadata": {
      "needs_background": "light"
     },
     "output_type": "display_data"
    }
   ],
   "source": [
    "train_est = df_establishment.query(\"index >= '2019-10-01' and index < '2022-10-01' \").copy()\n",
    "test_est = df_establishment.query(\"index >= '2022-10-01' and index < '2022-11-01' \").copy()\n",
    "\n",
    "fig, ax = plt.subplots(figsize=(15, 5))\n",
    "train_est.plot(ax=ax, label='Training Set', title='Establishments data Train/Test Split')\n",
    "test_est.plot(ax=ax, label='Test Set')\n",
    "ax.axvline('2022-10-01', color='black', ls='--')\n",
    "ax.legend(['Training Set', 'Test Set'])\n",
    "plt.show()"
   ]
  },
  {
   "cell_type": "code",
   "execution_count": 23,
   "id": "5d2af0aa",
   "metadata": {
    "execution": {
     "iopub.execute_input": "2022-12-04T20:43:41.660590Z",
     "iopub.status.busy": "2022-12-04T20:43:41.660064Z",
     "iopub.status.idle": "2022-12-04T20:44:39.342401Z",
     "shell.execute_reply": "2022-12-04T20:44:39.341447Z"
    },
    "papermill": {
     "duration": 57.701577,
     "end_time": "2022-12-04T20:44:39.344519",
     "exception": false,
     "start_time": "2022-12-04T20:43:41.642942",
     "status": "completed"
    },
    "tags": []
   },
   "outputs": [
    {
     "name": "stdout",
     "output_type": "stream",
     "text": [
      "Fold 0 MSE Score : 93.67554885726028\n",
      "establishment predicted : 4071.0 \n",
      "\n",
      "Fold 1 MSE Score : 75.03355465787686\n",
      "establishment predicted : 4196.0 \n",
      "\n",
      "Fold 2 MSE Score : 58.908320337612366\n",
      "establishment predicted : 4075.0 \n",
      "\n",
      "=> Total MSE Cross-Validation Scores :  75.87247461758317 \n",
      "\n",
      "The real establishment values are 4222.0, and the predicted establishment values are 4114.0\n"
     ]
    }
   ],
   "source": [
    "# Modeling\n",
    "model2 = XGBRegressor(base_score=0.5,\n",
    "                   booster='gbtree',    \n",
    "                   n_estimators=3500,\n",
    "                   max_depth=12,\n",
    "                   learning_rate=0.01\n",
    "                   )\n",
    "\n",
    "TARGET = \"establishment\"\n",
    "\n",
    "# Training and Prediction\n",
    "fit_and_predict(train_est, test_est, TARGET, model2)"
   ]
  },
  {
   "cell_type": "markdown",
   "id": "d16a1f28",
   "metadata": {
    "papermill": {
     "duration": 0.016432,
     "end_time": "2022-12-04T20:44:39.377874",
     "exception": false,
     "start_time": "2022-12-04T20:44:39.361442",
     "status": "completed"
    },
    "tags": []
   },
   "source": [
    "## Conclusion\n",
    "\n",
    "Notre modèle prédit que `4114` Établissements seront créées en Novembre 2022 contre `4222` Établissements réellements créées."
   ]
  },
  {
   "cell_type": "code",
   "execution_count": null,
   "id": "a0af7f0d",
   "metadata": {
    "papermill": {
     "duration": 0.016681,
     "end_time": "2022-12-04T20:44:39.411114",
     "exception": false,
     "start_time": "2022-12-04T20:44:39.394433",
     "status": "completed"
    },
    "tags": []
   },
   "outputs": [],
   "source": []
  },
  {
   "cell_type": "markdown",
   "id": "1b5b8c60",
   "metadata": {
    "papermill": {
     "duration": 0.01593,
     "end_time": "2022-12-04T20:44:39.443477",
     "exception": false,
     "start_time": "2022-12-04T20:44:39.427547",
     "status": "completed"
    },
    "tags": []
   },
   "source": [
    "# Combien d'établissements seront créées en Décembre 2022?\n",
    "\n",
    "Même procédé que celui de la prédiction du nombre de Sociétés qui seront créées en Décembre 2022 \n"
   ]
  },
  {
   "cell_type": "code",
   "execution_count": 24,
   "id": "d96dc323",
   "metadata": {
    "execution": {
     "iopub.execute_input": "2022-12-04T20:44:39.477969Z",
     "iopub.status.busy": "2022-12-04T20:44:39.477537Z",
     "iopub.status.idle": "2022-12-04T20:44:39.490502Z",
     "shell.execute_reply": "2022-12-04T20:44:39.489695Z"
    },
    "papermill": {
     "duration": 0.032874,
     "end_time": "2022-12-04T20:44:39.492660",
     "exception": false,
     "start_time": "2022-12-04T20:44:39.459786",
     "status": "completed"
    },
    "tags": []
   },
   "outputs": [
    {
     "data": {
      "text/html": [
       "<div>\n",
       "<style scoped>\n",
       "    .dataframe tbody tr th:only-of-type {\n",
       "        vertical-align: middle;\n",
       "    }\n",
       "\n",
       "    .dataframe tbody tr th {\n",
       "        vertical-align: top;\n",
       "    }\n",
       "\n",
       "    .dataframe thead th {\n",
       "        text-align: right;\n",
       "    }\n",
       "</style>\n",
       "<table border=\"1\" class=\"dataframe\">\n",
       "  <thead>\n",
       "    <tr style=\"text-align: right;\">\n",
       "      <th></th>\n",
       "      <th>dayofweek</th>\n",
       "      <th>quarter</th>\n",
       "      <th>month</th>\n",
       "      <th>year</th>\n",
       "      <th>dayofyear</th>\n",
       "      <th>dayofmonth</th>\n",
       "      <th>weekofyear</th>\n",
       "      <th>is_month_start</th>\n",
       "      <th>is_month_end</th>\n",
       "      <th>season</th>\n",
       "    </tr>\n",
       "    <tr>\n",
       "      <th>Datetime</th>\n",
       "      <th></th>\n",
       "      <th></th>\n",
       "      <th></th>\n",
       "      <th></th>\n",
       "      <th></th>\n",
       "      <th></th>\n",
       "      <th></th>\n",
       "      <th></th>\n",
       "      <th></th>\n",
       "      <th></th>\n",
       "    </tr>\n",
       "  </thead>\n",
       "  <tbody>\n",
       "    <tr>\n",
       "      <th>2022-12-01</th>\n",
       "      <td>3</td>\n",
       "      <td>4</td>\n",
       "      <td>12</td>\n",
       "      <td>2022</td>\n",
       "      <td>335</td>\n",
       "      <td>1</td>\n",
       "      <td>48</td>\n",
       "      <td>1</td>\n",
       "      <td>0</td>\n",
       "      <td>1</td>\n",
       "    </tr>\n",
       "    <tr>\n",
       "      <th>2022-12-02</th>\n",
       "      <td>4</td>\n",
       "      <td>4</td>\n",
       "      <td>12</td>\n",
       "      <td>2022</td>\n",
       "      <td>336</td>\n",
       "      <td>2</td>\n",
       "      <td>48</td>\n",
       "      <td>0</td>\n",
       "      <td>0</td>\n",
       "      <td>1</td>\n",
       "    </tr>\n",
       "    <tr>\n",
       "      <th>2022-12-05</th>\n",
       "      <td>0</td>\n",
       "      <td>4</td>\n",
       "      <td>12</td>\n",
       "      <td>2022</td>\n",
       "      <td>339</td>\n",
       "      <td>5</td>\n",
       "      <td>49</td>\n",
       "      <td>0</td>\n",
       "      <td>0</td>\n",
       "      <td>1</td>\n",
       "    </tr>\n",
       "  </tbody>\n",
       "</table>\n",
       "</div>"
      ],
      "text/plain": [
       "            dayofweek  quarter  month  year  dayofyear  dayofmonth  \\\n",
       "Datetime                                                             \n",
       "2022-12-01          3        4     12  2022        335           1   \n",
       "2022-12-02          4        4     12  2022        336           2   \n",
       "2022-12-05          0        4     12  2022        339           5   \n",
       "\n",
       "            weekofyear  is_month_start  is_month_end  season  \n",
       "Datetime                                                      \n",
       "2022-12-01          48               1             0       1  \n",
       "2022-12-02          48               0             0       1  \n",
       "2022-12-05          49               0             0       1  "
      ]
     },
     "execution_count": 24,
     "metadata": {},
     "output_type": "execute_result"
    }
   ],
   "source": [
    "# Nous réutilisons les données précédemment générées\n",
    "future.head(3)"
   ]
  },
  {
   "cell_type": "code",
   "execution_count": 25,
   "id": "4d001db1",
   "metadata": {
    "execution": {
     "iopub.execute_input": "2022-12-04T20:44:39.527556Z",
     "iopub.status.busy": "2022-12-04T20:44:39.527187Z",
     "iopub.status.idle": "2022-12-04T20:44:43.580406Z",
     "shell.execute_reply": "2022-12-04T20:44:43.578973Z"
    },
    "papermill": {
     "duration": 4.073315,
     "end_time": "2022-12-04T20:44:43.582703",
     "exception": false,
     "start_time": "2022-12-04T20:44:39.509388",
     "status": "completed"
    },
    "tags": []
   },
   "outputs": [
    {
     "name": "stdout",
     "output_type": "stream",
     "text": [
      "Fold 0 predict : 3869.0 establishment\n",
      "Fold 1 predict : 3884.0 establishment\n",
      "Fold 2 predict : 3950.0 establishment\n",
      "Prédiction Total :  3901.0\n"
     ]
    }
   ],
   "source": [
    "FEATURES = future.columns.tolist()\n",
    "\n",
    "predictions = []\n",
    "for fold in range(3):\n",
    "    reg_new = XGBRegressor()\n",
    "    reg_new.load_model(f'./{TARGET}/model{fold}.json') \n",
    "    \n",
    "    pred = reg_new.predict(future[FEATURES])\n",
    "    predictions.append(pred)\n",
    "    \n",
    "    print(f\"Fold {fold} predict : {np.round(np.sum(pred))} {TARGET}\")\n",
    "    \n",
    "pred = np.mean(predictions, axis=0)\n",
    "total_value = np.sum(pred)\n",
    "\n",
    "print(\"Prédiction Total : \", np.round(total_value))"
   ]
  },
  {
   "cell_type": "markdown",
   "id": "190f50ab",
   "metadata": {
    "papermill": {
     "duration": 0.019045,
     "end_time": "2022-12-04T20:44:43.619827",
     "exception": false,
     "start_time": "2022-12-04T20:44:43.600782",
     "status": "completed"
    },
    "tags": []
   },
   "source": [
    "## Conclusion\n",
    "\n",
    "Notre modèle prédit que `3900` Établissements seront créées en Décembre 2022\n"
   ]
  },
  {
   "cell_type": "code",
   "execution_count": null,
   "id": "157e6f67",
   "metadata": {
    "papermill": {
     "duration": 0.016147,
     "end_time": "2022-12-04T20:44:43.653843",
     "exception": false,
     "start_time": "2022-12-04T20:44:43.637696",
     "status": "completed"
    },
    "tags": []
   },
   "outputs": [],
   "source": []
  },
  {
   "cell_type": "markdown",
   "id": "a70164ba",
   "metadata": {
    "papermill": {
     "duration": 0.01629,
     "end_time": "2022-12-04T20:44:43.686604",
     "exception": false,
     "start_time": "2022-12-04T20:44:43.670314",
     "status": "completed"
    },
    "tags": []
   },
   "source": [
    "# Conclusion Générale\n",
    "\n",
    "- De nombreuses Algorithmes de Machine Learning ont été expérimentés (tels que `LGBMRegressor`, `LinearRegression`, `CatBoostRegressor` et `RandomForestRegressor`) et nous avions remarqué que l'algorithme `XGBRegressor` était le meilleur sur cet ensemble de données.\n",
    "\n",
    "\n",
    "- On pourrait reprendre l'exercice en s'intéresseant aux nombres d'Entreprises et Sociétés qui pourront être créés dans les mois à venir. \n",
    "\n",
    "- En prenant en considération des facteurs comme les domaines d'activités, on pourrait avoir de bonnes prédictions à l'avenir, car d'autres domaines d'activités se crée de jour en jour."
   ]
  },
  {
   "cell_type": "code",
   "execution_count": null,
   "id": "ab540144",
   "metadata": {
    "papermill": {
     "duration": 0.016488,
     "end_time": "2022-12-04T20:44:43.719844",
     "exception": false,
     "start_time": "2022-12-04T20:44:43.703356",
     "status": "completed"
    },
    "tags": []
   },
   "outputs": [],
   "source": []
  },
  {
   "cell_type": "markdown",
   "id": "e39c332a",
   "metadata": {
    "papermill": {
     "duration": 0.016597,
     "end_time": "2022-12-04T20:44:43.753617",
     "exception": false,
     "start_time": "2022-12-04T20:44:43.737020",
     "status": "completed"
    },
    "tags": []
   },
   "source": [
    "# Ressources\n",
    "\n",
    "> Original Data source : https://monentreprise.bj/dashboards/public"
   ]
  }
 ],
 "metadata": {
  "kernelspec": {
   "display_name": "Python 3",
   "language": "python",
   "name": "python3"
  },
  "language_info": {
   "codemirror_mode": {
    "name": "ipython",
    "version": 3
   },
   "file_extension": ".py",
   "mimetype": "text/x-python",
   "name": "python",
   "nbconvert_exporter": "python",
   "pygments_lexer": "ipython3",
   "version": "3.7.12"
  },
  "papermill": {
   "default_parameters": {},
   "duration": 81.1247,
   "end_time": "2022-12-04T20:44:44.693990",
   "environment_variables": {},
   "exception": null,
   "input_path": "__notebook__.ipynb",
   "output_path": "__notebook__.ipynb",
   "parameters": {},
   "start_time": "2022-12-04T20:43:23.569290",
   "version": "2.3.4"
  }
 },
 "nbformat": 4,
 "nbformat_minor": 5
}
